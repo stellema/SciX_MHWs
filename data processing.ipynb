{
 "cells": [
  {
   "cell_type": "markdown",
   "metadata": {},
   "source": [
    "# Calculate the Oceanic Niño Index (ONI) from NOAA OISST satellite data\n",
    "\n",
    "## Nino 3.4 and the ONI Index\n",
    "\n",
    "El Niño (La Niña) is a phenomenon in the equatorial Pacific Ocean characterized by a five consecutive 3-month running mean of sea surface temperature (SST) anomalies in the Niño 3.4 region that is above (below) the threshold of +0.5°C (-0.5°C). This standard of measure is known as the Oceanic Niño Index (ONI).\n",
    "\n",
    "Source: https://www.ncdc.noaa.gov/teleconnections/enso/indicators/sst/\n",
    "\n",
    "![image.png](attachment:image.png)\n",
    "\n",
    "_Niño regions of the equatorial Pacific Ocean. The Niño 3.4 region is used when calculating the Oceanic Niño Index.  Image Credit: NOAA._\n",
    "\n",
    "### In this notebook, we:\n",
    "\n",
    "\n",
    "- Load NOAA OISST SST anomaly satellite data from 1982 to 2019\n",
    "\n",
    "\n",
    "- Average the SST anomalies over the Nino 3.4 region: 5°S-5°N and 190°E to 240°E (Note 240°E = 120°W) and save this to a netcdf file called 'noaa_oisst_v2_sst_anom_nino34.nc'\n",
    "\n",
    "\n",
    "- Saves the SST anomaly averaged over the Nino 3.4 region to a netcdf file called 'noaa_oisst_v2_sst_anom_nino34.nc'\n",
    "\n",
    "\n",
    "- Calculate the ONI index, i.e., the 3-month running mean of the Nino 3.4 SST anomalies\n",
    "\n",
    "\n",
    "- Apply the above definition of El Niño (La Niña) to determine, for each day, the ENSO phase (i.e. El Nino, La Nina or neutral)\n",
    "\n",
    "\n",
    "- Save the ONI index and event timeseries to a netcdf file called 'noaa_oisst_v2_nino34_index.nc'"
   ]
  },
  {
   "cell_type": "code",
   "execution_count": 104,
   "metadata": {},
   "outputs": [],
   "source": [
    "# Load required modules.\n",
    "import numpy as np\n",
    "import xarray as xr\n",
    "import pandas as pd\n",
    "import matplotlib.pyplot as plt\n",
    "np.set_printoptions(suppress=True)"
   ]
  },
  {
   "cell_type": "code",
   "execution_count": 2,
   "metadata": {},
   "outputs": [],
   "source": [
    "# Directory where NOAA OISST files are saved (on the NCI supercomputer Raijin in Alex Sen Gupta's folder).\n",
    "path = '/g/data1/ua8/NOAA_OISST/AVHRR/v2-0_modified/'\n",
    "\n",
    "# Path to save the modified data ((on the NCI supercomputer Raijin in Annette's folder).\n",
    "save_path = '/g/data/e14/as3189/MHW/data/'\n",
    "\n",
    "# List of file names to import. While we only want data from 1982 onwards, we need the last few months \n",
    "# of 1981 to calculate the Oceanic Nino Index (i.e. the 3-month running mean). \n",
    "files = ['{}oisst_avhrr_v2_{}.nc'.format(path, year) for year in range(1981, 2019 + 1)]"
   ]
  },
  {
   "cell_type": "code",
   "execution_count": 3,
   "metadata": {},
   "outputs": [
    {
     "name": "stdout",
     "output_type": "stream",
     "text": [
      "<xarray.Dataset>\n",
      "Dimensions:  (lat: 720, lon: 1440, time: 13857)\n",
      "Coordinates:\n",
      "  * lon      (lon) float32 0.125 0.375 0.625 0.875 ... 359.375 359.625 359.875\n",
      "  * lat      (lat) float32 -89.875 -89.625 -89.375 ... 89.375 89.625 89.875\n",
      "  * time     (time) datetime64[ns] 1981-09-01 1981-09-02 ... 2019-08-09\n",
      "Data variables:\n",
      "    sst      (time, lat, lon) float32 dask.array<chunksize=(122, 720, 1440), meta=np.ndarray>\n",
      "    anom     (time, lat, lon) float32 dask.array<chunksize=(122, 720, 1440), meta=np.ndarray>\n",
      "Attributes:\n",
      "    CDI:                  Climate Data Interface version 1.7.1 (http://mpimet...\n",
      "    title:                Daily-OI-V2, final, Data (Ship, Buoy, AVHRR, GSFC-ice)\n",
      "    History:              Version 2.0\n",
      "    creation_date:        2011-05-04\n",
      "    Contact:              Dick Reynolds, email: Richard.W.Reynolds@noaa.gov &...\n",
      "    CDO:                  Climate Data Operators version 1.7.1 (http://mpimet...\n",
      "    summary:              Original files downloaded from ftp://eclipse.ncdc.n...\n",
      "    Conventions:          CF-1.6\n",
      "    date_created:         2017-01-05\n",
      "    time_coverage_start:  1981-09-01\n",
      "    time_coverage_end:    1981-12-31\n",
      "    geospatial_lat_min:   -89.875\n",
      "    geospatial_lat_max:   89.875\n",
      "    geospatial_lon_min:   0.125\n",
      "    geospatial_lon_max:   359.875\n"
     ]
    }
   ],
   "source": [
    "# Open all files as an xarray dataset.\n",
    "data = xr.open_mfdataset(files, combine='by_coords')\n",
    "\n",
    "data = data.isel(zlev=0) # Select the surface of the ocean (there aren't any other depths anyway).\n",
    "\n",
    "# Delete unnecessary variables and coordinates.\n",
    "data = data.drop('ice')\n",
    "data = data.drop('err')\n",
    "data = data.drop('zlev')\n",
    "\n",
    "print(data)"
   ]
  },
  {
   "cell_type": "markdown",
   "metadata": {},
   "source": [
    "### Average the SST anomalies over the Nino 3.4 region (5°S-5°N and 190°E-120°W)."
   ]
  },
  {
   "cell_type": "code",
   "execution_count": 4,
   "metadata": {},
   "outputs": [],
   "source": [
    "# Note that the longitudes go from 0-360°E, so to convert °W to °E you minus the western lat from 360 \n",
    "# (i.e. 240°E=360-120°W).\n",
    "sst_anom_nino34 = data.anom.sel(lat=slice(-5, 5), lon=slice(190, 240)).mean(['lon', 'lat'])"
   ]
  },
  {
   "cell_type": "markdown",
   "metadata": {},
   "source": [
    "### Calculate the monthly mean SST anomalies as an xarray dataset."
   ]
  },
  {
   "cell_type": "code",
   "execution_count": 5,
   "metadata": {},
   "outputs": [
    {
     "name": "stdout",
     "output_type": "stream",
     "text": [
      "<xarray.DataArray 'nino34' (time: 456)>\n",
      "dask.array<stack, shape=(456,), dtype=float32, chunksize=(1,), chunktype=numpy.ndarray>\n",
      "Coordinates:\n",
      "  * time     (time) datetime64[ns] 1981-09-01 1981-10-01 ... 2019-08-01\n",
      "Attributes:\n",
      "    long_name:  Monthly SST anomalies averaged over the Nino 3.4 region\n"
     ]
    },
    {
     "ename": "RuntimeError",
     "evalue": "NetCDF: HDF error",
     "output_type": "error",
     "traceback": [
      "\u001b[0;31m---------------------------------------------------------------------------\u001b[0m",
      "\u001b[0;31mRuntimeError\u001b[0m                              Traceback (most recent call last)",
      "\u001b[0;32m<ipython-input-5-27d2b5fe26dc>\u001b[0m in \u001b[0;36m<module>\u001b[0;34m\u001b[0m\n\u001b[1;32m     17\u001b[0m \u001b[0;31m# Save to a netcdf file (may take quite a while to calculate and save).\u001b[0m\u001b[0;34m\u001b[0m\u001b[0;34m\u001b[0m\u001b[0;34m\u001b[0m\u001b[0m\n\u001b[1;32m     18\u001b[0m \u001b[0;31m# ds.to_netcdf(save_path + 'sst_anom_nino34.nc')\u001b[0m\u001b[0;34m\u001b[0m\u001b[0;34m\u001b[0m\u001b[0;34m\u001b[0m\u001b[0m\n\u001b[0;32m---> 19\u001b[0;31m \u001b[0mds\u001b[0m\u001b[0;34m.\u001b[0m\u001b[0mload\u001b[0m\u001b[0;34m(\u001b[0m\u001b[0;34m)\u001b[0m\u001b[0;34m\u001b[0m\u001b[0;34m\u001b[0m\u001b[0m\n\u001b[0m",
      "\u001b[0;32m/g/data3/hh5/public/apps/miniconda3/envs/analysis3-19.10/lib/python3.6/site-packages/xarray/core/dataset.py\u001b[0m in \u001b[0;36mload\u001b[0;34m(self, **kwargs)\u001b[0m\n\u001b[1;32m    647\u001b[0m \u001b[0;34m\u001b[0m\u001b[0m\n\u001b[1;32m    648\u001b[0m             \u001b[0;31m# evaluate all the dask arrays simultaneously\u001b[0m\u001b[0;34m\u001b[0m\u001b[0;34m\u001b[0m\u001b[0;34m\u001b[0m\u001b[0m\n\u001b[0;32m--> 649\u001b[0;31m             \u001b[0mevaluated_data\u001b[0m \u001b[0;34m=\u001b[0m \u001b[0mda\u001b[0m\u001b[0;34m.\u001b[0m\u001b[0mcompute\u001b[0m\u001b[0;34m(\u001b[0m\u001b[0;34m*\u001b[0m\u001b[0mlazy_data\u001b[0m\u001b[0;34m.\u001b[0m\u001b[0mvalues\u001b[0m\u001b[0;34m(\u001b[0m\u001b[0;34m)\u001b[0m\u001b[0;34m,\u001b[0m \u001b[0;34m**\u001b[0m\u001b[0mkwargs\u001b[0m\u001b[0;34m)\u001b[0m\u001b[0;34m\u001b[0m\u001b[0;34m\u001b[0m\u001b[0m\n\u001b[0m\u001b[1;32m    650\u001b[0m \u001b[0;34m\u001b[0m\u001b[0m\n\u001b[1;32m    651\u001b[0m             \u001b[0;32mfor\u001b[0m \u001b[0mk\u001b[0m\u001b[0;34m,\u001b[0m \u001b[0mdata\u001b[0m \u001b[0;32min\u001b[0m \u001b[0mzip\u001b[0m\u001b[0;34m(\u001b[0m\u001b[0mlazy_data\u001b[0m\u001b[0;34m,\u001b[0m \u001b[0mevaluated_data\u001b[0m\u001b[0;34m)\u001b[0m\u001b[0;34m:\u001b[0m\u001b[0;34m\u001b[0m\u001b[0;34m\u001b[0m\u001b[0m\n",
      "\u001b[0;32m/g/data3/hh5/public/apps/miniconda3/envs/analysis3-19.10/lib/python3.6/site-packages/dask/base.py\u001b[0m in \u001b[0;36mcompute\u001b[0;34m(*args, **kwargs)\u001b[0m\n\u001b[1;32m    434\u001b[0m     \u001b[0mkeys\u001b[0m \u001b[0;34m=\u001b[0m \u001b[0;34m[\u001b[0m\u001b[0mx\u001b[0m\u001b[0;34m.\u001b[0m\u001b[0m__dask_keys__\u001b[0m\u001b[0;34m(\u001b[0m\u001b[0;34m)\u001b[0m \u001b[0;32mfor\u001b[0m \u001b[0mx\u001b[0m \u001b[0;32min\u001b[0m \u001b[0mcollections\u001b[0m\u001b[0;34m]\u001b[0m\u001b[0;34m\u001b[0m\u001b[0;34m\u001b[0m\u001b[0m\n\u001b[1;32m    435\u001b[0m     \u001b[0mpostcomputes\u001b[0m \u001b[0;34m=\u001b[0m \u001b[0;34m[\u001b[0m\u001b[0mx\u001b[0m\u001b[0;34m.\u001b[0m\u001b[0m__dask_postcompute__\u001b[0m\u001b[0;34m(\u001b[0m\u001b[0;34m)\u001b[0m \u001b[0;32mfor\u001b[0m \u001b[0mx\u001b[0m \u001b[0;32min\u001b[0m \u001b[0mcollections\u001b[0m\u001b[0;34m]\u001b[0m\u001b[0;34m\u001b[0m\u001b[0;34m\u001b[0m\u001b[0m\n\u001b[0;32m--> 436\u001b[0;31m     \u001b[0mresults\u001b[0m \u001b[0;34m=\u001b[0m \u001b[0mschedule\u001b[0m\u001b[0;34m(\u001b[0m\u001b[0mdsk\u001b[0m\u001b[0;34m,\u001b[0m \u001b[0mkeys\u001b[0m\u001b[0;34m,\u001b[0m \u001b[0;34m**\u001b[0m\u001b[0mkwargs\u001b[0m\u001b[0;34m)\u001b[0m\u001b[0;34m\u001b[0m\u001b[0;34m\u001b[0m\u001b[0m\n\u001b[0m\u001b[1;32m    437\u001b[0m     \u001b[0;32mreturn\u001b[0m \u001b[0mrepack\u001b[0m\u001b[0;34m(\u001b[0m\u001b[0;34m[\u001b[0m\u001b[0mf\u001b[0m\u001b[0;34m(\u001b[0m\u001b[0mr\u001b[0m\u001b[0;34m,\u001b[0m \u001b[0;34m*\u001b[0m\u001b[0ma\u001b[0m\u001b[0;34m)\u001b[0m \u001b[0;32mfor\u001b[0m \u001b[0mr\u001b[0m\u001b[0;34m,\u001b[0m \u001b[0;34m(\u001b[0m\u001b[0mf\u001b[0m\u001b[0;34m,\u001b[0m \u001b[0ma\u001b[0m\u001b[0;34m)\u001b[0m \u001b[0;32min\u001b[0m \u001b[0mzip\u001b[0m\u001b[0;34m(\u001b[0m\u001b[0mresults\u001b[0m\u001b[0;34m,\u001b[0m \u001b[0mpostcomputes\u001b[0m\u001b[0;34m)\u001b[0m\u001b[0;34m]\u001b[0m\u001b[0;34m)\u001b[0m\u001b[0;34m\u001b[0m\u001b[0;34m\u001b[0m\u001b[0m\n\u001b[1;32m    438\u001b[0m \u001b[0;34m\u001b[0m\u001b[0m\n",
      "\u001b[0;32m/g/data3/hh5/public/apps/miniconda3/envs/analysis3-19.10/lib/python3.6/site-packages/dask/threaded.py\u001b[0m in \u001b[0;36mget\u001b[0;34m(dsk, result, cache, num_workers, pool, **kwargs)\u001b[0m\n\u001b[1;32m     79\u001b[0m         \u001b[0mget_id\u001b[0m\u001b[0;34m=\u001b[0m\u001b[0m_thread_get_id\u001b[0m\u001b[0;34m,\u001b[0m\u001b[0;34m\u001b[0m\u001b[0;34m\u001b[0m\u001b[0m\n\u001b[1;32m     80\u001b[0m         \u001b[0mpack_exception\u001b[0m\u001b[0;34m=\u001b[0m\u001b[0mpack_exception\u001b[0m\u001b[0;34m,\u001b[0m\u001b[0;34m\u001b[0m\u001b[0;34m\u001b[0m\u001b[0m\n\u001b[0;32m---> 81\u001b[0;31m         \u001b[0;34m**\u001b[0m\u001b[0mkwargs\u001b[0m\u001b[0;34m\u001b[0m\u001b[0;34m\u001b[0m\u001b[0m\n\u001b[0m\u001b[1;32m     82\u001b[0m     )\n\u001b[1;32m     83\u001b[0m \u001b[0;34m\u001b[0m\u001b[0m\n",
      "\u001b[0;32m/g/data3/hh5/public/apps/miniconda3/envs/analysis3-19.10/lib/python3.6/site-packages/dask/local.py\u001b[0m in \u001b[0;36mget_async\u001b[0;34m(apply_async, num_workers, dsk, result, cache, get_id, rerun_exceptions_locally, pack_exception, raise_exception, callbacks, dumps, loads, **kwargs)\u001b[0m\n\u001b[1;32m    484\u001b[0m                         \u001b[0m_execute_task\u001b[0m\u001b[0;34m(\u001b[0m\u001b[0mtask\u001b[0m\u001b[0;34m,\u001b[0m \u001b[0mdata\u001b[0m\u001b[0;34m)\u001b[0m  \u001b[0;31m# Re-execute locally\u001b[0m\u001b[0;34m\u001b[0m\u001b[0;34m\u001b[0m\u001b[0m\n\u001b[1;32m    485\u001b[0m                     \u001b[0;32melse\u001b[0m\u001b[0;34m:\u001b[0m\u001b[0;34m\u001b[0m\u001b[0;34m\u001b[0m\u001b[0m\n\u001b[0;32m--> 486\u001b[0;31m                         \u001b[0mraise_exception\u001b[0m\u001b[0;34m(\u001b[0m\u001b[0mexc\u001b[0m\u001b[0;34m,\u001b[0m \u001b[0mtb\u001b[0m\u001b[0;34m)\u001b[0m\u001b[0;34m\u001b[0m\u001b[0;34m\u001b[0m\u001b[0m\n\u001b[0m\u001b[1;32m    487\u001b[0m                 \u001b[0mres\u001b[0m\u001b[0;34m,\u001b[0m \u001b[0mworker_id\u001b[0m \u001b[0;34m=\u001b[0m \u001b[0mloads\u001b[0m\u001b[0;34m(\u001b[0m\u001b[0mres_info\u001b[0m\u001b[0;34m)\u001b[0m\u001b[0;34m\u001b[0m\u001b[0;34m\u001b[0m\u001b[0m\n\u001b[1;32m    488\u001b[0m                 \u001b[0mstate\u001b[0m\u001b[0;34m[\u001b[0m\u001b[0;34m\"cache\"\u001b[0m\u001b[0;34m]\u001b[0m\u001b[0;34m[\u001b[0m\u001b[0mkey\u001b[0m\u001b[0;34m]\u001b[0m \u001b[0;34m=\u001b[0m \u001b[0mres\u001b[0m\u001b[0;34m\u001b[0m\u001b[0;34m\u001b[0m\u001b[0m\n",
      "\u001b[0;32m/g/data3/hh5/public/apps/miniconda3/envs/analysis3-19.10/lib/python3.6/site-packages/dask/local.py\u001b[0m in \u001b[0;36mreraise\u001b[0;34m(exc, tb)\u001b[0m\n\u001b[1;32m    314\u001b[0m     \u001b[0;32mif\u001b[0m \u001b[0mexc\u001b[0m\u001b[0;34m.\u001b[0m\u001b[0m__traceback__\u001b[0m \u001b[0;32mis\u001b[0m \u001b[0;32mnot\u001b[0m \u001b[0mtb\u001b[0m\u001b[0;34m:\u001b[0m\u001b[0;34m\u001b[0m\u001b[0;34m\u001b[0m\u001b[0m\n\u001b[1;32m    315\u001b[0m         \u001b[0;32mraise\u001b[0m \u001b[0mexc\u001b[0m\u001b[0;34m.\u001b[0m\u001b[0mwith_traceback\u001b[0m\u001b[0;34m(\u001b[0m\u001b[0mtb\u001b[0m\u001b[0;34m)\u001b[0m\u001b[0;34m\u001b[0m\u001b[0;34m\u001b[0m\u001b[0m\n\u001b[0;32m--> 316\u001b[0;31m     \u001b[0;32mraise\u001b[0m \u001b[0mexc\u001b[0m\u001b[0;34m\u001b[0m\u001b[0;34m\u001b[0m\u001b[0m\n\u001b[0m\u001b[1;32m    317\u001b[0m \u001b[0;34m\u001b[0m\u001b[0m\n\u001b[1;32m    318\u001b[0m \u001b[0;34m\u001b[0m\u001b[0m\n",
      "\u001b[0;32m/g/data3/hh5/public/apps/miniconda3/envs/analysis3-19.10/lib/python3.6/site-packages/dask/local.py\u001b[0m in \u001b[0;36mexecute_task\u001b[0;34m(key, task_info, dumps, loads, get_id, pack_exception)\u001b[0m\n\u001b[1;32m    220\u001b[0m     \u001b[0;32mtry\u001b[0m\u001b[0;34m:\u001b[0m\u001b[0;34m\u001b[0m\u001b[0;34m\u001b[0m\u001b[0m\n\u001b[1;32m    221\u001b[0m         \u001b[0mtask\u001b[0m\u001b[0;34m,\u001b[0m \u001b[0mdata\u001b[0m \u001b[0;34m=\u001b[0m \u001b[0mloads\u001b[0m\u001b[0;34m(\u001b[0m\u001b[0mtask_info\u001b[0m\u001b[0;34m)\u001b[0m\u001b[0;34m\u001b[0m\u001b[0;34m\u001b[0m\u001b[0m\n\u001b[0;32m--> 222\u001b[0;31m         \u001b[0mresult\u001b[0m \u001b[0;34m=\u001b[0m \u001b[0m_execute_task\u001b[0m\u001b[0;34m(\u001b[0m\u001b[0mtask\u001b[0m\u001b[0;34m,\u001b[0m \u001b[0mdata\u001b[0m\u001b[0;34m)\u001b[0m\u001b[0;34m\u001b[0m\u001b[0;34m\u001b[0m\u001b[0m\n\u001b[0m\u001b[1;32m    223\u001b[0m         \u001b[0mid\u001b[0m \u001b[0;34m=\u001b[0m \u001b[0mget_id\u001b[0m\u001b[0;34m(\u001b[0m\u001b[0;34m)\u001b[0m\u001b[0;34m\u001b[0m\u001b[0;34m\u001b[0m\u001b[0m\n\u001b[1;32m    224\u001b[0m         \u001b[0mresult\u001b[0m \u001b[0;34m=\u001b[0m \u001b[0mdumps\u001b[0m\u001b[0;34m(\u001b[0m\u001b[0;34m(\u001b[0m\u001b[0mresult\u001b[0m\u001b[0;34m,\u001b[0m \u001b[0mid\u001b[0m\u001b[0;34m)\u001b[0m\u001b[0;34m)\u001b[0m\u001b[0;34m\u001b[0m\u001b[0;34m\u001b[0m\u001b[0m\n",
      "\u001b[0;32m/g/data3/hh5/public/apps/miniconda3/envs/analysis3-19.10/lib/python3.6/site-packages/dask/core.py\u001b[0m in \u001b[0;36m_execute_task\u001b[0;34m(arg, cache, dsk)\u001b[0m\n\u001b[1;32m    117\u001b[0m         \u001b[0mfunc\u001b[0m\u001b[0;34m,\u001b[0m \u001b[0margs\u001b[0m \u001b[0;34m=\u001b[0m \u001b[0marg\u001b[0m\u001b[0;34m[\u001b[0m\u001b[0;36m0\u001b[0m\u001b[0;34m]\u001b[0m\u001b[0;34m,\u001b[0m \u001b[0marg\u001b[0m\u001b[0;34m[\u001b[0m\u001b[0;36m1\u001b[0m\u001b[0;34m:\u001b[0m\u001b[0;34m]\u001b[0m\u001b[0;34m\u001b[0m\u001b[0;34m\u001b[0m\u001b[0m\n\u001b[1;32m    118\u001b[0m         \u001b[0margs2\u001b[0m \u001b[0;34m=\u001b[0m \u001b[0;34m[\u001b[0m\u001b[0m_execute_task\u001b[0m\u001b[0;34m(\u001b[0m\u001b[0ma\u001b[0m\u001b[0;34m,\u001b[0m \u001b[0mcache\u001b[0m\u001b[0;34m)\u001b[0m \u001b[0;32mfor\u001b[0m \u001b[0ma\u001b[0m \u001b[0;32min\u001b[0m \u001b[0margs\u001b[0m\u001b[0;34m]\u001b[0m\u001b[0;34m\u001b[0m\u001b[0;34m\u001b[0m\u001b[0m\n\u001b[0;32m--> 119\u001b[0;31m         \u001b[0;32mreturn\u001b[0m \u001b[0mfunc\u001b[0m\u001b[0;34m(\u001b[0m\u001b[0;34m*\u001b[0m\u001b[0margs2\u001b[0m\u001b[0;34m)\u001b[0m\u001b[0;34m\u001b[0m\u001b[0;34m\u001b[0m\u001b[0m\n\u001b[0m\u001b[1;32m    120\u001b[0m     \u001b[0;32melif\u001b[0m \u001b[0;32mnot\u001b[0m \u001b[0mishashable\u001b[0m\u001b[0;34m(\u001b[0m\u001b[0marg\u001b[0m\u001b[0;34m)\u001b[0m\u001b[0;34m:\u001b[0m\u001b[0;34m\u001b[0m\u001b[0;34m\u001b[0m\u001b[0m\n\u001b[1;32m    121\u001b[0m         \u001b[0;32mreturn\u001b[0m \u001b[0marg\u001b[0m\u001b[0;34m\u001b[0m\u001b[0;34m\u001b[0m\u001b[0m\n",
      "\u001b[0;32m/g/data3/hh5/public/apps/miniconda3/envs/analysis3-19.10/lib/python3.6/site-packages/dask/array/core.py\u001b[0m in \u001b[0;36mgetter\u001b[0;34m(a, b, asarray, lock)\u001b[0m\n\u001b[1;32m    104\u001b[0m         \u001b[0mc\u001b[0m \u001b[0;34m=\u001b[0m \u001b[0ma\u001b[0m\u001b[0;34m[\u001b[0m\u001b[0mb\u001b[0m\u001b[0;34m]\u001b[0m\u001b[0;34m\u001b[0m\u001b[0;34m\u001b[0m\u001b[0m\n\u001b[1;32m    105\u001b[0m         \u001b[0;32mif\u001b[0m \u001b[0masarray\u001b[0m\u001b[0;34m:\u001b[0m\u001b[0;34m\u001b[0m\u001b[0;34m\u001b[0m\u001b[0m\n\u001b[0;32m--> 106\u001b[0;31m             \u001b[0mc\u001b[0m \u001b[0;34m=\u001b[0m \u001b[0mnp\u001b[0m\u001b[0;34m.\u001b[0m\u001b[0masarray\u001b[0m\u001b[0;34m(\u001b[0m\u001b[0mc\u001b[0m\u001b[0;34m)\u001b[0m\u001b[0;34m\u001b[0m\u001b[0;34m\u001b[0m\u001b[0m\n\u001b[0m\u001b[1;32m    107\u001b[0m     \u001b[0;32mfinally\u001b[0m\u001b[0;34m:\u001b[0m\u001b[0;34m\u001b[0m\u001b[0;34m\u001b[0m\u001b[0m\n\u001b[1;32m    108\u001b[0m         \u001b[0;32mif\u001b[0m \u001b[0mlock\u001b[0m\u001b[0;34m:\u001b[0m\u001b[0;34m\u001b[0m\u001b[0;34m\u001b[0m\u001b[0m\n",
      "\u001b[0;32m/g/data3/hh5/public/apps/miniconda3/envs/analysis3-19.10/lib/python3.6/site-packages/numpy/core/_asarray.py\u001b[0m in \u001b[0;36masarray\u001b[0;34m(a, dtype, order)\u001b[0m\n\u001b[1;32m     83\u001b[0m \u001b[0;34m\u001b[0m\u001b[0m\n\u001b[1;32m     84\u001b[0m     \"\"\"\n\u001b[0;32m---> 85\u001b[0;31m     \u001b[0;32mreturn\u001b[0m \u001b[0marray\u001b[0m\u001b[0;34m(\u001b[0m\u001b[0ma\u001b[0m\u001b[0;34m,\u001b[0m \u001b[0mdtype\u001b[0m\u001b[0;34m,\u001b[0m \u001b[0mcopy\u001b[0m\u001b[0;34m=\u001b[0m\u001b[0;32mFalse\u001b[0m\u001b[0;34m,\u001b[0m \u001b[0morder\u001b[0m\u001b[0;34m=\u001b[0m\u001b[0morder\u001b[0m\u001b[0;34m)\u001b[0m\u001b[0;34m\u001b[0m\u001b[0;34m\u001b[0m\u001b[0m\n\u001b[0m\u001b[1;32m     86\u001b[0m \u001b[0;34m\u001b[0m\u001b[0m\n\u001b[1;32m     87\u001b[0m \u001b[0;34m\u001b[0m\u001b[0m\n",
      "\u001b[0;32m/g/data3/hh5/public/apps/miniconda3/envs/analysis3-19.10/lib/python3.6/site-packages/xarray/core/indexing.py\u001b[0m in \u001b[0;36m__array__\u001b[0;34m(self, dtype)\u001b[0m\n\u001b[1;32m    479\u001b[0m \u001b[0;34m\u001b[0m\u001b[0m\n\u001b[1;32m    480\u001b[0m     \u001b[0;32mdef\u001b[0m \u001b[0m__array__\u001b[0m\u001b[0;34m(\u001b[0m\u001b[0mself\u001b[0m\u001b[0;34m,\u001b[0m \u001b[0mdtype\u001b[0m\u001b[0;34m=\u001b[0m\u001b[0;32mNone\u001b[0m\u001b[0;34m)\u001b[0m\u001b[0;34m:\u001b[0m\u001b[0;34m\u001b[0m\u001b[0;34m\u001b[0m\u001b[0m\n\u001b[0;32m--> 481\u001b[0;31m         \u001b[0;32mreturn\u001b[0m \u001b[0mnp\u001b[0m\u001b[0;34m.\u001b[0m\u001b[0masarray\u001b[0m\u001b[0;34m(\u001b[0m\u001b[0mself\u001b[0m\u001b[0;34m.\u001b[0m\u001b[0marray\u001b[0m\u001b[0;34m,\u001b[0m \u001b[0mdtype\u001b[0m\u001b[0;34m=\u001b[0m\u001b[0mdtype\u001b[0m\u001b[0;34m)\u001b[0m\u001b[0;34m\u001b[0m\u001b[0;34m\u001b[0m\u001b[0m\n\u001b[0m\u001b[1;32m    482\u001b[0m \u001b[0;34m\u001b[0m\u001b[0m\n\u001b[1;32m    483\u001b[0m     \u001b[0;32mdef\u001b[0m \u001b[0m__getitem__\u001b[0m\u001b[0;34m(\u001b[0m\u001b[0mself\u001b[0m\u001b[0;34m,\u001b[0m \u001b[0mkey\u001b[0m\u001b[0;34m)\u001b[0m\u001b[0;34m:\u001b[0m\u001b[0;34m\u001b[0m\u001b[0;34m\u001b[0m\u001b[0m\n",
      "\u001b[0;32m/g/data3/hh5/public/apps/miniconda3/envs/analysis3-19.10/lib/python3.6/site-packages/numpy/core/_asarray.py\u001b[0m in \u001b[0;36masarray\u001b[0;34m(a, dtype, order)\u001b[0m\n\u001b[1;32m     83\u001b[0m \u001b[0;34m\u001b[0m\u001b[0m\n\u001b[1;32m     84\u001b[0m     \"\"\"\n\u001b[0;32m---> 85\u001b[0;31m     \u001b[0;32mreturn\u001b[0m \u001b[0marray\u001b[0m\u001b[0;34m(\u001b[0m\u001b[0ma\u001b[0m\u001b[0;34m,\u001b[0m \u001b[0mdtype\u001b[0m\u001b[0;34m,\u001b[0m \u001b[0mcopy\u001b[0m\u001b[0;34m=\u001b[0m\u001b[0;32mFalse\u001b[0m\u001b[0;34m,\u001b[0m \u001b[0morder\u001b[0m\u001b[0;34m=\u001b[0m\u001b[0morder\u001b[0m\u001b[0;34m)\u001b[0m\u001b[0;34m\u001b[0m\u001b[0;34m\u001b[0m\u001b[0m\n\u001b[0m\u001b[1;32m     86\u001b[0m \u001b[0;34m\u001b[0m\u001b[0m\n\u001b[1;32m     87\u001b[0m \u001b[0;34m\u001b[0m\u001b[0m\n",
      "\u001b[0;32m/g/data3/hh5/public/apps/miniconda3/envs/analysis3-19.10/lib/python3.6/site-packages/xarray/core/indexing.py\u001b[0m in \u001b[0;36m__array__\u001b[0;34m(self, dtype)\u001b[0m\n\u001b[1;32m    641\u001b[0m \u001b[0;34m\u001b[0m\u001b[0m\n\u001b[1;32m    642\u001b[0m     \u001b[0;32mdef\u001b[0m \u001b[0m__array__\u001b[0m\u001b[0;34m(\u001b[0m\u001b[0mself\u001b[0m\u001b[0;34m,\u001b[0m \u001b[0mdtype\u001b[0m\u001b[0;34m=\u001b[0m\u001b[0;32mNone\u001b[0m\u001b[0;34m)\u001b[0m\u001b[0;34m:\u001b[0m\u001b[0;34m\u001b[0m\u001b[0;34m\u001b[0m\u001b[0m\n\u001b[0;32m--> 643\u001b[0;31m         \u001b[0;32mreturn\u001b[0m \u001b[0mnp\u001b[0m\u001b[0;34m.\u001b[0m\u001b[0masarray\u001b[0m\u001b[0;34m(\u001b[0m\u001b[0mself\u001b[0m\u001b[0;34m.\u001b[0m\u001b[0marray\u001b[0m\u001b[0;34m,\u001b[0m \u001b[0mdtype\u001b[0m\u001b[0;34m=\u001b[0m\u001b[0mdtype\u001b[0m\u001b[0;34m)\u001b[0m\u001b[0;34m\u001b[0m\u001b[0;34m\u001b[0m\u001b[0m\n\u001b[0m\u001b[1;32m    644\u001b[0m \u001b[0;34m\u001b[0m\u001b[0m\n\u001b[1;32m    645\u001b[0m     \u001b[0;32mdef\u001b[0m \u001b[0m__getitem__\u001b[0m\u001b[0;34m(\u001b[0m\u001b[0mself\u001b[0m\u001b[0;34m,\u001b[0m \u001b[0mkey\u001b[0m\u001b[0;34m)\u001b[0m\u001b[0;34m:\u001b[0m\u001b[0;34m\u001b[0m\u001b[0;34m\u001b[0m\u001b[0m\n",
      "\u001b[0;32m/g/data3/hh5/public/apps/miniconda3/envs/analysis3-19.10/lib/python3.6/site-packages/numpy/core/_asarray.py\u001b[0m in \u001b[0;36masarray\u001b[0;34m(a, dtype, order)\u001b[0m\n\u001b[1;32m     83\u001b[0m \u001b[0;34m\u001b[0m\u001b[0m\n\u001b[1;32m     84\u001b[0m     \"\"\"\n\u001b[0;32m---> 85\u001b[0;31m     \u001b[0;32mreturn\u001b[0m \u001b[0marray\u001b[0m\u001b[0;34m(\u001b[0m\u001b[0ma\u001b[0m\u001b[0;34m,\u001b[0m \u001b[0mdtype\u001b[0m\u001b[0;34m,\u001b[0m \u001b[0mcopy\u001b[0m\u001b[0;34m=\u001b[0m\u001b[0;32mFalse\u001b[0m\u001b[0;34m,\u001b[0m \u001b[0morder\u001b[0m\u001b[0;34m=\u001b[0m\u001b[0morder\u001b[0m\u001b[0;34m)\u001b[0m\u001b[0;34m\u001b[0m\u001b[0;34m\u001b[0m\u001b[0m\n\u001b[0m\u001b[1;32m     86\u001b[0m \u001b[0;34m\u001b[0m\u001b[0m\n\u001b[1;32m     87\u001b[0m \u001b[0;34m\u001b[0m\u001b[0m\n",
      "\u001b[0;32m/g/data3/hh5/public/apps/miniconda3/envs/analysis3-19.10/lib/python3.6/site-packages/xarray/core/indexing.py\u001b[0m in \u001b[0;36m__array__\u001b[0;34m(self, dtype)\u001b[0m\n\u001b[1;32m    545\u001b[0m     \u001b[0;32mdef\u001b[0m \u001b[0m__array__\u001b[0m\u001b[0;34m(\u001b[0m\u001b[0mself\u001b[0m\u001b[0;34m,\u001b[0m \u001b[0mdtype\u001b[0m\u001b[0;34m=\u001b[0m\u001b[0;32mNone\u001b[0m\u001b[0;34m)\u001b[0m\u001b[0;34m:\u001b[0m\u001b[0;34m\u001b[0m\u001b[0;34m\u001b[0m\u001b[0m\n\u001b[1;32m    546\u001b[0m         \u001b[0marray\u001b[0m \u001b[0;34m=\u001b[0m \u001b[0mas_indexable\u001b[0m\u001b[0;34m(\u001b[0m\u001b[0mself\u001b[0m\u001b[0;34m.\u001b[0m\u001b[0marray\u001b[0m\u001b[0;34m)\u001b[0m\u001b[0;34m\u001b[0m\u001b[0;34m\u001b[0m\u001b[0m\n\u001b[0;32m--> 547\u001b[0;31m         \u001b[0;32mreturn\u001b[0m \u001b[0mnp\u001b[0m\u001b[0;34m.\u001b[0m\u001b[0masarray\u001b[0m\u001b[0;34m(\u001b[0m\u001b[0marray\u001b[0m\u001b[0;34m[\u001b[0m\u001b[0mself\u001b[0m\u001b[0;34m.\u001b[0m\u001b[0mkey\u001b[0m\u001b[0;34m]\u001b[0m\u001b[0;34m,\u001b[0m \u001b[0mdtype\u001b[0m\u001b[0;34m=\u001b[0m\u001b[0;32mNone\u001b[0m\u001b[0;34m)\u001b[0m\u001b[0;34m\u001b[0m\u001b[0;34m\u001b[0m\u001b[0m\n\u001b[0m\u001b[1;32m    548\u001b[0m \u001b[0;34m\u001b[0m\u001b[0m\n\u001b[1;32m    549\u001b[0m     \u001b[0;32mdef\u001b[0m \u001b[0mtranspose\u001b[0m\u001b[0;34m(\u001b[0m\u001b[0mself\u001b[0m\u001b[0;34m,\u001b[0m \u001b[0morder\u001b[0m\u001b[0;34m)\u001b[0m\u001b[0;34m:\u001b[0m\u001b[0;34m\u001b[0m\u001b[0;34m\u001b[0m\u001b[0m\n",
      "\u001b[0;32m/g/data3/hh5/public/apps/miniconda3/envs/analysis3-19.10/lib/python3.6/site-packages/numpy/core/_asarray.py\u001b[0m in \u001b[0;36masarray\u001b[0;34m(a, dtype, order)\u001b[0m\n\u001b[1;32m     83\u001b[0m \u001b[0;34m\u001b[0m\u001b[0m\n\u001b[1;32m     84\u001b[0m     \"\"\"\n\u001b[0;32m---> 85\u001b[0;31m     \u001b[0;32mreturn\u001b[0m \u001b[0marray\u001b[0m\u001b[0;34m(\u001b[0m\u001b[0ma\u001b[0m\u001b[0;34m,\u001b[0m \u001b[0mdtype\u001b[0m\u001b[0;34m,\u001b[0m \u001b[0mcopy\u001b[0m\u001b[0;34m=\u001b[0m\u001b[0;32mFalse\u001b[0m\u001b[0;34m,\u001b[0m \u001b[0morder\u001b[0m\u001b[0;34m=\u001b[0m\u001b[0morder\u001b[0m\u001b[0;34m)\u001b[0m\u001b[0;34m\u001b[0m\u001b[0;34m\u001b[0m\u001b[0m\n\u001b[0m\u001b[1;32m     86\u001b[0m \u001b[0;34m\u001b[0m\u001b[0m\n\u001b[1;32m     87\u001b[0m \u001b[0;34m\u001b[0m\u001b[0m\n",
      "\u001b[0;32m/g/data3/hh5/public/apps/miniconda3/envs/analysis3-19.10/lib/python3.6/site-packages/xarray/coding/variables.py\u001b[0m in \u001b[0;36m__array__\u001b[0;34m(self, dtype)\u001b[0m\n\u001b[1;32m     70\u001b[0m \u001b[0;34m\u001b[0m\u001b[0m\n\u001b[1;32m     71\u001b[0m     \u001b[0;32mdef\u001b[0m \u001b[0m__array__\u001b[0m\u001b[0;34m(\u001b[0m\u001b[0mself\u001b[0m\u001b[0;34m,\u001b[0m \u001b[0mdtype\u001b[0m\u001b[0;34m=\u001b[0m\u001b[0;32mNone\u001b[0m\u001b[0;34m)\u001b[0m\u001b[0;34m:\u001b[0m\u001b[0;34m\u001b[0m\u001b[0;34m\u001b[0m\u001b[0m\n\u001b[0;32m---> 72\u001b[0;31m         \u001b[0;32mreturn\u001b[0m \u001b[0mself\u001b[0m\u001b[0;34m.\u001b[0m\u001b[0mfunc\u001b[0m\u001b[0;34m(\u001b[0m\u001b[0mself\u001b[0m\u001b[0;34m.\u001b[0m\u001b[0marray\u001b[0m\u001b[0;34m)\u001b[0m\u001b[0;34m\u001b[0m\u001b[0;34m\u001b[0m\u001b[0m\n\u001b[0m\u001b[1;32m     73\u001b[0m \u001b[0;34m\u001b[0m\u001b[0m\n\u001b[1;32m     74\u001b[0m     \u001b[0;32mdef\u001b[0m \u001b[0m__repr__\u001b[0m\u001b[0;34m(\u001b[0m\u001b[0mself\u001b[0m\u001b[0;34m)\u001b[0m\u001b[0;34m:\u001b[0m\u001b[0;34m\u001b[0m\u001b[0;34m\u001b[0m\u001b[0m\n",
      "\u001b[0;32m/g/data3/hh5/public/apps/miniconda3/envs/analysis3-19.10/lib/python3.6/site-packages/xarray/coding/variables.py\u001b[0m in \u001b[0;36m_scale_offset_decoding\u001b[0;34m(data, scale_factor, add_offset, dtype)\u001b[0m\n\u001b[1;32m    215\u001b[0m \u001b[0;34m\u001b[0m\u001b[0m\n\u001b[1;32m    216\u001b[0m \u001b[0;32mdef\u001b[0m \u001b[0m_scale_offset_decoding\u001b[0m\u001b[0;34m(\u001b[0m\u001b[0mdata\u001b[0m\u001b[0;34m,\u001b[0m \u001b[0mscale_factor\u001b[0m\u001b[0;34m,\u001b[0m \u001b[0madd_offset\u001b[0m\u001b[0;34m,\u001b[0m \u001b[0mdtype\u001b[0m\u001b[0;34m)\u001b[0m\u001b[0;34m:\u001b[0m\u001b[0;34m\u001b[0m\u001b[0;34m\u001b[0m\u001b[0m\n\u001b[0;32m--> 217\u001b[0;31m     \u001b[0mdata\u001b[0m \u001b[0;34m=\u001b[0m \u001b[0mnp\u001b[0m\u001b[0;34m.\u001b[0m\u001b[0marray\u001b[0m\u001b[0;34m(\u001b[0m\u001b[0mdata\u001b[0m\u001b[0;34m,\u001b[0m \u001b[0mdtype\u001b[0m\u001b[0;34m=\u001b[0m\u001b[0mdtype\u001b[0m\u001b[0;34m,\u001b[0m \u001b[0mcopy\u001b[0m\u001b[0;34m=\u001b[0m\u001b[0;32mTrue\u001b[0m\u001b[0;34m)\u001b[0m\u001b[0;34m\u001b[0m\u001b[0;34m\u001b[0m\u001b[0m\n\u001b[0m\u001b[1;32m    218\u001b[0m     \u001b[0;32mif\u001b[0m \u001b[0mscale_factor\u001b[0m \u001b[0;32mis\u001b[0m \u001b[0;32mnot\u001b[0m \u001b[0;32mNone\u001b[0m\u001b[0;34m:\u001b[0m\u001b[0;34m\u001b[0m\u001b[0;34m\u001b[0m\u001b[0m\n\u001b[1;32m    219\u001b[0m         \u001b[0mdata\u001b[0m \u001b[0;34m*=\u001b[0m \u001b[0mscale_factor\u001b[0m\u001b[0;34m\u001b[0m\u001b[0;34m\u001b[0m\u001b[0m\n",
      "\u001b[0;32m/g/data3/hh5/public/apps/miniconda3/envs/analysis3-19.10/lib/python3.6/site-packages/xarray/coding/variables.py\u001b[0m in \u001b[0;36m__array__\u001b[0;34m(self, dtype)\u001b[0m\n\u001b[1;32m     70\u001b[0m \u001b[0;34m\u001b[0m\u001b[0m\n\u001b[1;32m     71\u001b[0m     \u001b[0;32mdef\u001b[0m \u001b[0m__array__\u001b[0m\u001b[0;34m(\u001b[0m\u001b[0mself\u001b[0m\u001b[0;34m,\u001b[0m \u001b[0mdtype\u001b[0m\u001b[0;34m=\u001b[0m\u001b[0;32mNone\u001b[0m\u001b[0;34m)\u001b[0m\u001b[0;34m:\u001b[0m\u001b[0;34m\u001b[0m\u001b[0;34m\u001b[0m\u001b[0m\n\u001b[0;32m---> 72\u001b[0;31m         \u001b[0;32mreturn\u001b[0m \u001b[0mself\u001b[0m\u001b[0;34m.\u001b[0m\u001b[0mfunc\u001b[0m\u001b[0;34m(\u001b[0m\u001b[0mself\u001b[0m\u001b[0;34m.\u001b[0m\u001b[0marray\u001b[0m\u001b[0;34m)\u001b[0m\u001b[0;34m\u001b[0m\u001b[0;34m\u001b[0m\u001b[0m\n\u001b[0m\u001b[1;32m     73\u001b[0m \u001b[0;34m\u001b[0m\u001b[0m\n\u001b[1;32m     74\u001b[0m     \u001b[0;32mdef\u001b[0m \u001b[0m__repr__\u001b[0m\u001b[0;34m(\u001b[0m\u001b[0mself\u001b[0m\u001b[0;34m)\u001b[0m\u001b[0;34m:\u001b[0m\u001b[0;34m\u001b[0m\u001b[0;34m\u001b[0m\u001b[0m\n",
      "\u001b[0;32m/g/data3/hh5/public/apps/miniconda3/envs/analysis3-19.10/lib/python3.6/site-packages/xarray/coding/variables.py\u001b[0m in \u001b[0;36m_apply_mask\u001b[0;34m(data, encoded_fill_values, decoded_fill_value, dtype)\u001b[0m\n\u001b[1;32m    136\u001b[0m ) -> np.ndarray:\n\u001b[1;32m    137\u001b[0m     \u001b[0;34m\"\"\"Mask all matching values in a NumPy arrays.\"\"\"\u001b[0m\u001b[0;34m\u001b[0m\u001b[0;34m\u001b[0m\u001b[0m\n\u001b[0;32m--> 138\u001b[0;31m     \u001b[0mdata\u001b[0m \u001b[0;34m=\u001b[0m \u001b[0mnp\u001b[0m\u001b[0;34m.\u001b[0m\u001b[0masarray\u001b[0m\u001b[0;34m(\u001b[0m\u001b[0mdata\u001b[0m\u001b[0;34m,\u001b[0m \u001b[0mdtype\u001b[0m\u001b[0;34m=\u001b[0m\u001b[0mdtype\u001b[0m\u001b[0;34m)\u001b[0m\u001b[0;34m\u001b[0m\u001b[0;34m\u001b[0m\u001b[0m\n\u001b[0m\u001b[1;32m    139\u001b[0m     \u001b[0mcondition\u001b[0m \u001b[0;34m=\u001b[0m \u001b[0;32mFalse\u001b[0m\u001b[0;34m\u001b[0m\u001b[0;34m\u001b[0m\u001b[0m\n\u001b[1;32m    140\u001b[0m     \u001b[0;32mfor\u001b[0m \u001b[0mfv\u001b[0m \u001b[0;32min\u001b[0m \u001b[0mencoded_fill_values\u001b[0m\u001b[0;34m:\u001b[0m\u001b[0;34m\u001b[0m\u001b[0;34m\u001b[0m\u001b[0m\n",
      "\u001b[0;32m/g/data3/hh5/public/apps/miniconda3/envs/analysis3-19.10/lib/python3.6/site-packages/numpy/core/_asarray.py\u001b[0m in \u001b[0;36masarray\u001b[0;34m(a, dtype, order)\u001b[0m\n\u001b[1;32m     83\u001b[0m \u001b[0;34m\u001b[0m\u001b[0m\n\u001b[1;32m     84\u001b[0m     \"\"\"\n\u001b[0;32m---> 85\u001b[0;31m     \u001b[0;32mreturn\u001b[0m \u001b[0marray\u001b[0m\u001b[0;34m(\u001b[0m\u001b[0ma\u001b[0m\u001b[0;34m,\u001b[0m \u001b[0mdtype\u001b[0m\u001b[0;34m,\u001b[0m \u001b[0mcopy\u001b[0m\u001b[0;34m=\u001b[0m\u001b[0;32mFalse\u001b[0m\u001b[0;34m,\u001b[0m \u001b[0morder\u001b[0m\u001b[0;34m=\u001b[0m\u001b[0morder\u001b[0m\u001b[0;34m)\u001b[0m\u001b[0;34m\u001b[0m\u001b[0;34m\u001b[0m\u001b[0m\n\u001b[0m\u001b[1;32m     86\u001b[0m \u001b[0;34m\u001b[0m\u001b[0m\n\u001b[1;32m     87\u001b[0m \u001b[0;34m\u001b[0m\u001b[0m\n",
      "\u001b[0;32m/g/data3/hh5/public/apps/miniconda3/envs/analysis3-19.10/lib/python3.6/site-packages/xarray/core/indexing.py\u001b[0m in \u001b[0;36m__array__\u001b[0;34m(self, dtype)\u001b[0m\n\u001b[1;32m    545\u001b[0m     \u001b[0;32mdef\u001b[0m \u001b[0m__array__\u001b[0m\u001b[0;34m(\u001b[0m\u001b[0mself\u001b[0m\u001b[0;34m,\u001b[0m \u001b[0mdtype\u001b[0m\u001b[0;34m=\u001b[0m\u001b[0;32mNone\u001b[0m\u001b[0;34m)\u001b[0m\u001b[0;34m:\u001b[0m\u001b[0;34m\u001b[0m\u001b[0;34m\u001b[0m\u001b[0m\n\u001b[1;32m    546\u001b[0m         \u001b[0marray\u001b[0m \u001b[0;34m=\u001b[0m \u001b[0mas_indexable\u001b[0m\u001b[0;34m(\u001b[0m\u001b[0mself\u001b[0m\u001b[0;34m.\u001b[0m\u001b[0marray\u001b[0m\u001b[0;34m)\u001b[0m\u001b[0;34m\u001b[0m\u001b[0;34m\u001b[0m\u001b[0m\n\u001b[0;32m--> 547\u001b[0;31m         \u001b[0;32mreturn\u001b[0m \u001b[0mnp\u001b[0m\u001b[0;34m.\u001b[0m\u001b[0masarray\u001b[0m\u001b[0;34m(\u001b[0m\u001b[0marray\u001b[0m\u001b[0;34m[\u001b[0m\u001b[0mself\u001b[0m\u001b[0;34m.\u001b[0m\u001b[0mkey\u001b[0m\u001b[0;34m]\u001b[0m\u001b[0;34m,\u001b[0m \u001b[0mdtype\u001b[0m\u001b[0;34m=\u001b[0m\u001b[0;32mNone\u001b[0m\u001b[0;34m)\u001b[0m\u001b[0;34m\u001b[0m\u001b[0;34m\u001b[0m\u001b[0m\n\u001b[0m\u001b[1;32m    548\u001b[0m \u001b[0;34m\u001b[0m\u001b[0m\n\u001b[1;32m    549\u001b[0m     \u001b[0;32mdef\u001b[0m \u001b[0mtranspose\u001b[0m\u001b[0;34m(\u001b[0m\u001b[0mself\u001b[0m\u001b[0;34m,\u001b[0m \u001b[0morder\u001b[0m\u001b[0;34m)\u001b[0m\u001b[0;34m:\u001b[0m\u001b[0;34m\u001b[0m\u001b[0;34m\u001b[0m\u001b[0m\n",
      "\u001b[0;32m/g/data3/hh5/public/apps/miniconda3/envs/analysis3-19.10/lib/python3.6/site-packages/xarray/backends/netCDF4_.py\u001b[0m in \u001b[0;36m__getitem__\u001b[0;34m(self, key)\u001b[0m\n\u001b[1;32m     70\u001b[0m     \u001b[0;32mdef\u001b[0m \u001b[0m__getitem__\u001b[0m\u001b[0;34m(\u001b[0m\u001b[0mself\u001b[0m\u001b[0;34m,\u001b[0m \u001b[0mkey\u001b[0m\u001b[0;34m)\u001b[0m\u001b[0;34m:\u001b[0m\u001b[0;34m\u001b[0m\u001b[0;34m\u001b[0m\u001b[0m\n\u001b[1;32m     71\u001b[0m         return indexing.explicit_indexing_adapter(\n\u001b[0;32m---> 72\u001b[0;31m             \u001b[0mkey\u001b[0m\u001b[0;34m,\u001b[0m \u001b[0mself\u001b[0m\u001b[0;34m.\u001b[0m\u001b[0mshape\u001b[0m\u001b[0;34m,\u001b[0m \u001b[0mindexing\u001b[0m\u001b[0;34m.\u001b[0m\u001b[0mIndexingSupport\u001b[0m\u001b[0;34m.\u001b[0m\u001b[0mOUTER\u001b[0m\u001b[0;34m,\u001b[0m \u001b[0mself\u001b[0m\u001b[0;34m.\u001b[0m\u001b[0m_getitem\u001b[0m\u001b[0;34m\u001b[0m\u001b[0;34m\u001b[0m\u001b[0m\n\u001b[0m\u001b[1;32m     73\u001b[0m         )\n\u001b[1;32m     74\u001b[0m \u001b[0;34m\u001b[0m\u001b[0m\n",
      "\u001b[0;32m/g/data3/hh5/public/apps/miniconda3/envs/analysis3-19.10/lib/python3.6/site-packages/xarray/core/indexing.py\u001b[0m in \u001b[0;36mexplicit_indexing_adapter\u001b[0;34m(key, shape, indexing_support, raw_indexing_method)\u001b[0m\n\u001b[1;32m    825\u001b[0m     \"\"\"\n\u001b[1;32m    826\u001b[0m     \u001b[0mraw_key\u001b[0m\u001b[0;34m,\u001b[0m \u001b[0mnumpy_indices\u001b[0m \u001b[0;34m=\u001b[0m \u001b[0mdecompose_indexer\u001b[0m\u001b[0;34m(\u001b[0m\u001b[0mkey\u001b[0m\u001b[0;34m,\u001b[0m \u001b[0mshape\u001b[0m\u001b[0;34m,\u001b[0m \u001b[0mindexing_support\u001b[0m\u001b[0;34m)\u001b[0m\u001b[0;34m\u001b[0m\u001b[0;34m\u001b[0m\u001b[0m\n\u001b[0;32m--> 827\u001b[0;31m     \u001b[0mresult\u001b[0m \u001b[0;34m=\u001b[0m \u001b[0mraw_indexing_method\u001b[0m\u001b[0;34m(\u001b[0m\u001b[0mraw_key\u001b[0m\u001b[0;34m.\u001b[0m\u001b[0mtuple\u001b[0m\u001b[0;34m)\u001b[0m\u001b[0;34m\u001b[0m\u001b[0;34m\u001b[0m\u001b[0m\n\u001b[0m\u001b[1;32m    828\u001b[0m     \u001b[0;32mif\u001b[0m \u001b[0mnumpy_indices\u001b[0m\u001b[0;34m.\u001b[0m\u001b[0mtuple\u001b[0m\u001b[0;34m:\u001b[0m\u001b[0;34m\u001b[0m\u001b[0;34m\u001b[0m\u001b[0m\n\u001b[1;32m    829\u001b[0m         \u001b[0;31m# index the loaded np.ndarray\u001b[0m\u001b[0;34m\u001b[0m\u001b[0;34m\u001b[0m\u001b[0;34m\u001b[0m\u001b[0m\n",
      "\u001b[0;32m/g/data3/hh5/public/apps/miniconda3/envs/analysis3-19.10/lib/python3.6/site-packages/xarray/backends/netCDF4_.py\u001b[0m in \u001b[0;36m_getitem\u001b[0;34m(self, key)\u001b[0m\n\u001b[1;32m     82\u001b[0m             \u001b[0;32mwith\u001b[0m \u001b[0mself\u001b[0m\u001b[0;34m.\u001b[0m\u001b[0mdatastore\u001b[0m\u001b[0;34m.\u001b[0m\u001b[0mlock\u001b[0m\u001b[0;34m:\u001b[0m\u001b[0;34m\u001b[0m\u001b[0;34m\u001b[0m\u001b[0m\n\u001b[1;32m     83\u001b[0m                 \u001b[0moriginal_array\u001b[0m \u001b[0;34m=\u001b[0m \u001b[0mself\u001b[0m\u001b[0;34m.\u001b[0m\u001b[0mget_array\u001b[0m\u001b[0;34m(\u001b[0m\u001b[0mneeds_lock\u001b[0m\u001b[0;34m=\u001b[0m\u001b[0;32mFalse\u001b[0m\u001b[0;34m)\u001b[0m\u001b[0;34m\u001b[0m\u001b[0;34m\u001b[0m\u001b[0m\n\u001b[0;32m---> 84\u001b[0;31m                 \u001b[0marray\u001b[0m \u001b[0;34m=\u001b[0m \u001b[0mgetitem\u001b[0m\u001b[0;34m(\u001b[0m\u001b[0moriginal_array\u001b[0m\u001b[0;34m,\u001b[0m \u001b[0mkey\u001b[0m\u001b[0;34m)\u001b[0m\u001b[0;34m\u001b[0m\u001b[0;34m\u001b[0m\u001b[0m\n\u001b[0m\u001b[1;32m     85\u001b[0m         \u001b[0;32mexcept\u001b[0m \u001b[0mIndexError\u001b[0m\u001b[0;34m:\u001b[0m\u001b[0;34m\u001b[0m\u001b[0;34m\u001b[0m\u001b[0m\n\u001b[1;32m     86\u001b[0m             \u001b[0;31m# Catch IndexError in netCDF4 and return a more informative\u001b[0m\u001b[0;34m\u001b[0m\u001b[0;34m\u001b[0m\u001b[0;34m\u001b[0m\u001b[0m\n",
      "\u001b[0;32mnetCDF4/_netCDF4.pyx\u001b[0m in \u001b[0;36mnetCDF4._netCDF4.Variable.__getitem__\u001b[0;34m()\u001b[0m\n",
      "\u001b[0;32mnetCDF4/_netCDF4.pyx\u001b[0m in \u001b[0;36mnetCDF4._netCDF4.Variable._get\u001b[0;34m()\u001b[0m\n",
      "\u001b[0;32mnetCDF4/_netCDF4.pyx\u001b[0m in \u001b[0;36mnetCDF4._netCDF4._ensure_nc_success\u001b[0;34m()\u001b[0m\n",
      "\u001b[0;31mRuntimeError\u001b[0m: NetCDF: HDF error"
     ]
    }
   ],
   "source": [
    "ds = xr.Dataset() # Creates an empty xarray dataset.\n",
    "\n",
    "# Add data array called nino34 (this will also add the time coordinate)\n",
    "# MonthBegin \t'MS' \tcalendar month begin\n",
    "ds['nino34'] = sst_anom_nino34.resample(time='MS').mean()\n",
    "\n",
    "# Copy details from oringial data files (like data version, etc).\n",
    "ds.attrs = data.attrs\n",
    "ds.nino34.attrs = data.anom.attrs\n",
    "\n",
    "# It's always good to add some metadata so that you know what the file contains when you open it!\n",
    "ds.nino34.attrs['long_name'] = 'Monthly SST anomalies averaged over the Nino 3.4 region'\n",
    "\n",
    "# Preview what the file will look like.\n",
    "print(ds.nino34)\n",
    "\n",
    "# Save to a netcdf file (may take quite a while to calculate and save).\n",
    "ds.to_netcdf(save_path + 'sst_anom_nino34.nc')"
   ]
  },
  {
   "cell_type": "markdown",
   "metadata": {},
   "source": [
    "## Calculate the Oceanic Nino Index (ONI)."
   ]
  },
  {
   "cell_type": "code",
   "execution_count": 82,
   "metadata": {},
   "outputs": [],
   "source": [
    "ds = xr.open_dataset(save_path + 'sst_anom_nino34.nc')\n",
    "\n",
    "# Calculate the three month running mean.\n",
    "oni = ds.nino34.rolling(time=3).mean()"
   ]
  },
  {
   "cell_type": "code",
   "execution_count": 83,
   "metadata": {},
   "outputs": [],
   "source": [
    "# Remove the last few months of 1981 from ONI (we only want values from 1982 onwards.)\n",
    "oni = oni.isel(time=slice(4, len(oni)))"
   ]
  },
  {
   "cell_type": "code",
   "execution_count": 84,
   "metadata": {},
   "outputs": [
    {
     "data": {
      "text/plain": [
       "<matplotlib.lines.Line2D at 0x7f97f4985dd8>"
      ]
     },
     "execution_count": 84,
     "metadata": {},
     "output_type": "execute_result"
    },
    {
     "data": {
      "image/png": "[encoded data removed]",
      "text/plain": [
       "<Figure size 1008x360 with 1 Axes>"
      ]
     },
     "metadata": {
      "needs_background": "light"
     },
     "output_type": "display_data"
    }
   ],
   "source": [
    "# Quick plot to see how it looks (basically a smoothed version of nino34).\n",
    "fig, ax = plt.subplots(figsize=(14, 5))\n",
    "ax.plot(oni.time, oni)\n",
    "ax.axhline(0.4)\n",
    "ax.axhline(-0.4)\n",
    "# ax.set_xticks(np.arange(len(oni.time)))\n",
    "# oni"
   ]
  },
  {
   "cell_type": "markdown",
   "metadata": {},
   "source": [
    "### Label ENSO events as 'nino', 'nina' or 'none' based on the ONI and nino threshold. \n",
    "\n",
    "- El Nino events: ONI values greater than or equal to 0.5°C\n",
    "- La Nina events: ONI values less than or equal to -0.5°C\n",
    "- Neutral ('none'): ONI values between -0.5°C and 0.5°C"
   ]
  },
  {
   "cell_type": "code",
   "execution_count": 91,
   "metadata": {},
   "outputs": [
    {
     "name": "stdout",
     "output_type": "stream",
     "text": [
      "Number of El Nino months: 128\n",
      "Number of La Nina months: 130\n",
      "Number of Neutral months: 194\n"
     ]
    }
   ],
   "source": [
    "nino_thresh = 0.5 # The SST [°C] threshold for definiting events.\n",
    "\n",
    "# The nino array is just a time series of months labeled either 'none', 'nino' or 'nina'.\n",
    "nino = xr.full_like(oni, 'none', dtype='U4') # Start by labelling all events as neutral ('none').\n",
    "nino[oni > nino_thresh] = 'nino' # If the SST anomaly is greater than or equal to 0.5°C: label it 'nino'.\n",
    "nino[oni < -nino_thresh] = 'nina' # If the SST anomaly is less than or equal to -0.5°C: label it 'nina'.\n",
    "\n",
    "# Printing the sum of El Nino and La Nina months.\n",
    "print('Number of El Nino months: {}'.format((nino == 'nino').sum().item()))\n",
    "print('Number of La Nina months: {}'.format((nino == 'nina').sum().item()))\n",
    "print('Number of Neutral months: {}'.format((nino == 'none').sum().item()))"
   ]
  },
  {
   "cell_type": "code",
   "execution_count": 92,
   "metadata": {},
   "outputs": [
    {
     "name": "stdout",
     "output_type": "stream",
     "text": [
      "Number of El Nino months: 121\n",
      "Number of La Nina months: 114\n",
      "Number of Neutral months: 217\n"
     ]
    }
   ],
   "source": [
    "months = 5\n",
    "i = 0 # Counter.\n",
    "while i < len(nino):\n",
    "    # Check if month 'i' is tagged as 'nino' or 'nina', otherwise just skip to the next month (i + 1).\n",
    "    if nino[i] != 'none':\n",
    "        # Find the next day index that is tagged as 'none'. \n",
    "        # Note that nino[i:] is the nino array neglecting all the days before 'i' and np.argwhere will tell us \n",
    "        # where all the indexes of 'none' are, but we are only interested in the very next 'none' (i.e. [0][0]).\n",
    "        try:\n",
    "            end = np.argwhere([n != nino[i] for n in nino[i:]])[0][0]\n",
    "        except:\n",
    "            \n",
    "            if all(nino[i:] == nino[i]):\n",
    "                print(nino[i])\n",
    "                end = len(nino)\n",
    "                \n",
    "        # So, 'end' number of days after day 'i' is when the next non-event occurs \n",
    "        # (i.e. the end of the nina or nino event).\n",
    "        # This means 'end' is the duration of the event. \n",
    "        # If the event duration is shorter than the days threshold, rename all these labels as 'none'.\n",
    "        if end < months:\n",
    "            nino[i:i + end] = ['none']*(end) \n",
    "\n",
    "            \n",
    "        # Jump up the counter by all the days we just went through.\n",
    "        i += end + 1\n",
    "    else:\n",
    "        i += 1\n",
    "\n",
    "# Printing the sum of El Nino and La Nina months.\n",
    "print('Number of El Nino months: {}'.format((nino == 'nino').sum().item()))\n",
    "print('Number of La Nina months: {}'.format((nino == 'nina').sum().item()))\n",
    "print('Number of Neutral months: {}'.format((nino == 'none').sum().item()))"
   ]
  },
  {
   "cell_type": "code",
   "execution_count": 93,
   "metadata": {},
   "outputs": [
    {
     "data": {
      "text/plain": [
       "[<matplotlib.lines.Line2D at 0x7f97f4936f60>]"
      ]
     },
     "execution_count": 93,
     "metadata": {},
     "output_type": "execute_result"
    },
    {
     "data": {
      "image/png": "[encoded data removed]",
      "text/plain": [
       "<Figure size 432x288 with 1 Axes>"
      ]
     },
     "metadata": {
      "needs_background": "light"
     },
     "output_type": "display_data"
    }
   ],
   "source": [
    "plt.plot(oni.time,nino)"
   ]
  },
  {
   "cell_type": "code",
   "execution_count": 94,
   "metadata": {},
   "outputs": [
    {
     "data": {
      "text/html": [
       "<pre>&lt;xarray.DataArray (time: 452)&gt;\n",
       "array([-0.24235521, -0.18127882, -0.12113389, -0.08337604,  0.20860331,\n",
       "        0.53050834,  0.6210241 ,  0.74695075,  0.91309994,  1.4103801 ,\n",
       "        1.7463583 ,  2.0946414 ,  2.1807957 ,  2.1281602 ,  1.7729454 ,\n",
       "        1.3402184 ,  1.0069008 ,  0.7829385 ,  0.412273  , -0.00007045,\n",
       "       -0.3426705 , -0.59199464, -0.84101474, -1.0940268 , -1.1179909 ,\n",
       "       -0.8080535 , -0.60165524, -0.3839168 , -0.5084078 , -0.6339644 ,\n",
       "       -0.6855251 , -0.64037746, -0.4662546 , -0.5058896 , -0.73484445,\n",
       "       -1.092627  , -1.3281202 , -1.2809777 , -1.093419  , -0.9662403 ,\n",
       "       -0.9605202 , -0.9712681 , -0.8552729 , -0.7090105 , -0.6518848 ,\n",
       "       -0.6513909 , -0.58645105, -0.5045563 , -0.54638344, -0.7177863 ,\n",
       "       -0.74758744, -0.6197301 , -0.4835423 , -0.33549142, -0.16321522,\n",
       "        0.09242034,  0.30045348,  0.47363722,  0.63267565,  0.78847235,\n",
       "        0.8870529 ,  0.89031327,  0.8900451 ,  0.7800865 ,  0.6688644 ,\n",
       "        0.6716449 ,  0.8805566 ,  1.1682512 ,  1.3161366 ,  1.2653514 ,\n",
       "        1.182584  ,  1.0015931 ,  0.84952295,  0.5413962 ,  0.27810803,\n",
       "       -0.08271243, -0.5697814 , -1.1233597 , -1.5183791 , -1.5419964 ,\n",
       "       -1.3077055 , -1.4210005 , -1.647609  , -2.008334  , -2.046832  ,\n",
       "       -1.8805015 , -1.7090682 , -1.4167383 , -1.1609855 , -0.83568496,\n",
       "       -0.5665306 , -0.50874954, -0.49766183, -0.5130762 , -0.4395849 ,\n",
       "       -0.32167202, -0.21847054, -0.09788587, -0.11668985, -0.04104545,\n",
       "        0.02996415,  0.05399562,  0.07614835,  0.08284079,  0.11445972,\n",
       "        0.16196063,  0.138295  ,  0.23834524,  0.2419163 ,  0.23176299,\n",
       "        0.10828109,  0.08456403,  0.18203387,  0.39979172,  0.53623766,\n",
       "        0.6448374 ,  0.5634339 ,  0.6021346 ,  0.74461883,  1.1755049 ,\n",
       "        1.4894545 ,  1.629525  ,  1.4938077 ,  1.3228087 ,  1.1559954 ,\n",
       "        0.94118154,  0.6451522 ,  0.29009935,  0.05143857, -0.18949258,\n",
       "       -0.17481911, -0.05466998,  0.12271019,  0.20116556,  0.20583588,\n",
       "        0.33099923,  0.5055306 ,  0.5372716 ,  0.49934113,  0.24330197,\n",
       "        0.21937475,  0.1920924 ,  0.2793815 ,  0.24478942,  0.13760686,\n",
       "       -0.00705829, -0.0097445 ,  0.07526009,  0.20455614,  0.25995383,\n",
       "        0.2323755 ,  0.32425517,  0.3222087 ,  0.5184978 ,  0.7339319 ,\n",
       "        1.0556358 ,  1.0559824 ,  0.86649656,  0.5436493 ,  0.37546214,\n",
       "        0.1397147 , -0.03002822, -0.12847799, -0.26136082, -0.40560687,\n",
       "       -0.6700424 , -0.7686373 , -0.84214425, -0.84692615, -0.8629056 ,\n",
       "       -0.7978524 , -0.62064797, -0.46446782, -0.34478885, -0.29614535,\n",
       "       -0.24159543, -0.24642259, -0.33594164, -0.33394158, -0.40860018,\n",
       "       -0.47542518, -0.549462  , -0.48477435, -0.24899936,  0.08035593,\n",
       "        0.5436126 ,  1.0300578 ,  1.4605224 ,  1.7609814 ,  1.9760804 ,\n",
       "        2.1685815 ,  2.2727613 ,  2.2465925 ,  2.0188382 ,  1.6760973 ,\n",
       "        1.2074755 ,  0.8234922 ,  0.18823147, -0.39995074, -1.0009899 ,\n",
       "       -1.1279857 , -1.192559  , -1.1744318 , -1.3991979 , -1.5283575 ,\n",
       "       -1.537876  , -1.2650907 , -0.99384165, -0.8692663 , -0.8730766 ,\n",
       "       -0.8736404 , -0.9872923 , -1.0108069 , -1.0845089 , -1.1796823 ,\n",
       "       -1.3828537 , -1.6335958 , -1.6917655 , -1.5369062 , -1.1733651 ,\n",
       "       -0.9195312 , -0.71334696, -0.6504251 , -0.4969518 , -0.4844055 ,\n",
       "       -0.4972872 , -0.59757495, -0.7703921 , -0.8417887 , -0.81849265,\n",
       "       -0.6078657 , -0.47612557, -0.3806481 , -0.24792552, -0.08306879,\n",
       "        0.03250202, -0.02816805, -0.10044307, -0.18938613, -0.29087204,\n",
       "       -0.31617284, -0.2288826 , -0.09045599,  0.04686133,  0.1587258 ,\n",
       "        0.44394442,  0.63751316,  0.789102  ,  0.8265501 ,  0.9619691 ,\n",
       "        1.1952391 ,  1.3594337 ,  1.2549009 ,  0.9601971 ,  0.66302955,\n",
       "        0.37595648,  0.0064832 , -0.22754985, -0.15911967,  0.0478822 ,\n",
       "        0.1864722 ,  0.29821467,  0.40576288,  0.46782467,  0.34467468,\n",
       "        0.23273599,  0.03003752,  0.00630179,  0.03746011,  0.15463448,\n",
       "        0.33889967,  0.51752436,  0.7012477 ,  0.7339468 ,  0.75924885,\n",
       "        0.75528395,  0.69407153,  0.47753358,  0.3331344 ,  0.23822193,\n",
       "        0.30069476,  0.3374538 ,  0.3210257 ,  0.25036412,  0.09344892,\n",
       "        0.02683686, -0.12745002, -0.34820467, -0.6907306 , -0.8321702 ,\n",
       "       -0.81128716, -0.5249837 , -0.25408617,  0.06589331,  0.16189401,\n",
       "        0.29014325,  0.39482865,  0.5997187 ,  0.81444216,  1.0206277 ,\n",
       "        1.0052112 ,  0.6489614 ,  0.220596  , -0.00804806, -0.12276905,\n",
       "       -0.08451144, -0.18813871, -0.25244433, -0.55045784, -0.8320484 ,\n",
       "       -1.0708591 , -1.1635356 , -1.344877  , -1.466214  , -1.3988712 ,\n",
       "       -1.0803618 , -0.7387004 , -0.5829807 , -0.3798806 , -0.18231967,\n",
       "       -0.09753074, -0.09646016, -0.1447514 , -0.32915652, -0.583642  ,\n",
       "       -0.7631058 , -0.7172519 , -0.43805814, -0.11277664,  0.30099007,\n",
       "        0.5450322 ,  0.70435715,  0.75717807,  0.8648156 ,  1.1672195 ,\n",
       "        1.509952  ,  1.6761873 ,  1.4960517 ,  1.2863009 ,  1.0287924 ,\n",
       "        0.6393808 ,  0.11381777, -0.4054749 , -0.78966665, -1.0913978 ,\n",
       "       -1.2654618 , -1.2874513 , -1.2295657 , -1.3016596 , -1.312662  ,\n",
       "       -1.2072588 , -0.89774364, -0.5626477 , -0.32709488, -0.1288728 ,\n",
       "       -0.15261097, -0.3272353 , -0.5262127 , -0.6726977 , -0.7646506 ,\n",
       "       -0.79092264, -0.7414086 , -0.5818509 , -0.47867912, -0.2947518 ,\n",
       "        0.00024156,  0.27752936,  0.5673628 ,  0.5786622 ,  0.5851035 ,\n",
       "        0.5612004 ,  0.25961143, -0.08139686, -0.5157386 , -0.44111323,\n",
       "       -0.16668116, -0.04391259, -0.03355968, -0.15777236, -0.22653377,\n",
       "       -0.14151302, -0.12682869,  0.05536368, -0.01232747, -0.1812995 ,\n",
       "       -0.54614913, -0.6245616 , -0.32205978,  0.19614774,  0.53486174,\n",
       "        0.45518947,  0.27576584,  0.17267266,  0.32017577,  0.62903035,\n",
       "        0.7464396 ,  0.71741337,  0.6169771 ,  0.53120184,  0.70847964,\n",
       "        0.80763113,  1.0726674 ,  1.231542  ,  1.5032519 ,  1.7153411 ,\n",
       "        2.0218375 ,  2.434956  ,  2.6528964 ,  2.6764755 ,  2.372054  ,\n",
       "        2.0895462 ,  1.6690004 ,  1.0944352 ,  0.6025286 ,  0.0004259 ,\n",
       "       -0.30975145, -0.5500624 , -0.601741  , -0.68515015, -0.6631171 ,\n",
       "       -0.5022113 , -0.29255286, -0.13283299,  0.17346303,  0.3740118 ,\n",
       "        0.4734606 ,  0.29483628,  0.03731469, -0.29828346, -0.39820504,\n",
       "       -0.6575372 , -0.74768794, -1.003065  , -0.8936672 , -0.85318416,\n",
       "       -0.63049096, -0.35708758, -0.04774904,  0.12109625,  0.19456455,\n",
       "        0.3020435 ,  0.6074542 ,  0.8731097 ,  1.0916476 ,  0.9329872 ,\n",
       "        0.764035  ,  0.71473134,  0.781593  ,  0.83739305,  0.7346473 ,\n",
       "        0.5969847 ,  0.41676664], dtype=float32)\n",
       "Coordinates:\n",
       "  * time     (time) datetime64[ns] 1982-01-01 1982-02-01 ... 2019-08-01</pre>"
      ],
      "text/plain": [
       "<xarray.DataArray (time: 452)>\n",
       "array([-0.24235521, -0.18127882, -0.12113389, -0.08337604,  0.20860331,\n",
       "        0.53050834,  0.6210241 ,  0.74695075,  0.91309994,  1.4103801 ,\n",
       "        1.7463583 ,  2.0946414 ,  2.1807957 ,  2.1281602 ,  1.7729454 ,\n",
       "        1.3402184 ,  1.0069008 ,  0.7829385 ,  0.412273  , -0.00007045,\n",
       "       -0.3426705 , -0.59199464, -0.84101474, -1.0940268 , -1.1179909 ,\n",
       "       -0.8080535 , -0.60165524, -0.3839168 , -0.5084078 , -0.6339644 ,\n",
       "       -0.6855251 , -0.64037746, -0.4662546 , -0.5058896 , -0.73484445,\n",
       "       -1.092627  , -1.3281202 , -1.2809777 , -1.093419  , -0.9662403 ,\n",
       "       -0.9605202 , -0.9712681 , -0.8552729 , -0.7090105 , -0.6518848 ,\n",
       "       -0.6513909 , -0.58645105, -0.5045563 , -0.54638344, -0.7177863 ,\n",
       "       -0.74758744, -0.6197301 , -0.4835423 , -0.33549142, -0.16321522,\n",
       "        0.09242034,  0.30045348,  0.47363722,  0.63267565,  0.78847235,\n",
       "        0.8870529 ,  0.89031327,  0.8900451 ,  0.7800865 ,  0.6688644 ,\n",
       "        0.6716449 ,  0.8805566 ,  1.1682512 ,  1.3161366 ,  1.2653514 ,\n",
       "        1.182584  ,  1.0015931 ,  0.84952295,  0.5413962 ,  0.27810803,\n",
       "       -0.08271243, -0.5697814 , -1.1233597 , -1.5183791 , -1.5419964 ,\n",
       "       -1.3077055 , -1.4210005 , -1.647609  , -2.008334  , -2.046832  ,\n",
       "       -1.8805015 , -1.7090682 , -1.4167383 , -1.1609855 , -0.83568496,\n",
       "       -0.5665306 , -0.50874954, -0.49766183, -0.5130762 , -0.4395849 ,\n",
       "       -0.32167202, -0.21847054, -0.09788587, -0.11668985, -0.04104545,\n",
       "        0.02996415,  0.05399562,  0.07614835,  0.08284079,  0.11445972,\n",
       "        0.16196063,  0.138295  ,  0.23834524,  0.2419163 ,  0.23176299,\n",
       "        0.10828109,  0.08456403,  0.18203387,  0.39979172,  0.53623766,\n",
       "        0.6448374 ,  0.5634339 ,  0.6021346 ,  0.74461883,  1.1755049 ,\n",
       "        1.4894545 ,  1.629525  ,  1.4938077 ,  1.3228087 ,  1.1559954 ,\n",
       "        0.94118154,  0.6451522 ,  0.29009935,  0.05143857, -0.18949258,\n",
       "       -0.17481911, -0.05466998,  0.12271019,  0.20116556,  0.20583588,\n",
       "        0.33099923,  0.5055306 ,  0.5372716 ,  0.49934113,  0.24330197,\n",
       "        0.21937475,  0.1920924 ,  0.2793815 ,  0.24478942,  0.13760686,\n",
       "       -0.00705829, -0.0097445 ,  0.07526009,  0.20455614,  0.25995383,\n",
       "        0.2323755 ,  0.32425517,  0.3222087 ,  0.5184978 ,  0.7339319 ,\n",
       "        1.0556358 ,  1.0559824 ,  0.86649656,  0.5436493 ,  0.37546214,\n",
       "        0.1397147 , -0.03002822, -0.12847799, -0.26136082, -0.40560687,\n",
       "       -0.6700424 , -0.7686373 , -0.84214425, -0.84692615, -0.8629056 ,\n",
       "       -0.7978524 , -0.62064797, -0.46446782, -0.34478885, -0.29614535,\n",
       "       -0.24159543, -0.24642259, -0.33594164, -0.33394158, -0.40860018,\n",
       "       -0.47542518, -0.549462  , -0.48477435, -0.24899936,  0.08035593,\n",
       "        0.5436126 ,  1.0300578 ,  1.4605224 ,  1.7609814 ,  1.9760804 ,\n",
       "        2.1685815 ,  2.2727613 ,  2.2465925 ,  2.0188382 ,  1.6760973 ,\n",
       "        1.2074755 ,  0.8234922 ,  0.18823147, -0.39995074, -1.0009899 ,\n",
       "       -1.1279857 , -1.192559  , -1.1744318 , -1.3991979 , -1.5283575 ,\n",
       "       -1.537876  , -1.2650907 , -0.99384165, -0.8692663 , -0.8730766 ,\n",
       "       -0.8736404 , -0.9872923 , -1.0108069 , -1.0845089 , -1.1796823 ,\n",
       "       -1.3828537 , -1.6335958 , -1.6917655 , -1.5369062 , -1.1733651 ,\n",
       "       -0.9195312 , -0.71334696, -0.6504251 , -0.4969518 , -0.4844055 ,\n",
       "       -0.4972872 , -0.59757495, -0.7703921 , -0.8417887 , -0.81849265,\n",
       "       -0.6078657 , -0.47612557, -0.3806481 , -0.24792552, -0.08306879,\n",
       "        0.03250202, -0.02816805, -0.10044307, -0.18938613, -0.29087204,\n",
       "       -0.31617284, -0.2288826 , -0.09045599,  0.04686133,  0.1587258 ,\n",
       "        0.44394442,  0.63751316,  0.789102  ,  0.8265501 ,  0.9619691 ,\n",
       "        1.1952391 ,  1.3594337 ,  1.2549009 ,  0.9601971 ,  0.66302955,\n",
       "        0.37595648,  0.0064832 , -0.22754985, -0.15911967,  0.0478822 ,\n",
       "        0.1864722 ,  0.29821467,  0.40576288,  0.46782467,  0.34467468,\n",
       "        0.23273599,  0.03003752,  0.00630179,  0.03746011,  0.15463448,\n",
       "        0.33889967,  0.51752436,  0.7012477 ,  0.7339468 ,  0.75924885,\n",
       "        0.75528395,  0.69407153,  0.47753358,  0.3331344 ,  0.23822193,\n",
       "        0.30069476,  0.3374538 ,  0.3210257 ,  0.25036412,  0.09344892,\n",
       "        0.02683686, -0.12745002, -0.34820467, -0.6907306 , -0.8321702 ,\n",
       "       -0.81128716, -0.5249837 , -0.25408617,  0.06589331,  0.16189401,\n",
       "        0.29014325,  0.39482865,  0.5997187 ,  0.81444216,  1.0206277 ,\n",
       "        1.0052112 ,  0.6489614 ,  0.220596  , -0.00804806, -0.12276905,\n",
       "       -0.08451144, -0.18813871, -0.25244433, -0.55045784, -0.8320484 ,\n",
       "       -1.0708591 , -1.1635356 , -1.344877  , -1.466214  , -1.3988712 ,\n",
       "       -1.0803618 , -0.7387004 , -0.5829807 , -0.3798806 , -0.18231967,\n",
       "       -0.09753074, -0.09646016, -0.1447514 , -0.32915652, -0.583642  ,\n",
       "       -0.7631058 , -0.7172519 , -0.43805814, -0.11277664,  0.30099007,\n",
       "        0.5450322 ,  0.70435715,  0.75717807,  0.8648156 ,  1.1672195 ,\n",
       "        1.509952  ,  1.6761873 ,  1.4960517 ,  1.2863009 ,  1.0287924 ,\n",
       "        0.6393808 ,  0.11381777, -0.4054749 , -0.78966665, -1.0913978 ,\n",
       "       -1.2654618 , -1.2874513 , -1.2295657 , -1.3016596 , -1.312662  ,\n",
       "       -1.2072588 , -0.89774364, -0.5626477 , -0.32709488, -0.1288728 ,\n",
       "       -0.15261097, -0.3272353 , -0.5262127 , -0.6726977 , -0.7646506 ,\n",
       "       -0.79092264, -0.7414086 , -0.5818509 , -0.47867912, -0.2947518 ,\n",
       "        0.00024156,  0.27752936,  0.5673628 ,  0.5786622 ,  0.5851035 ,\n",
       "        0.5612004 ,  0.25961143, -0.08139686, -0.5157386 , -0.44111323,\n",
       "       -0.16668116, -0.04391259, -0.03355968, -0.15777236, -0.22653377,\n",
       "       -0.14151302, -0.12682869,  0.05536368, -0.01232747, -0.1812995 ,\n",
       "       -0.54614913, -0.6245616 , -0.32205978,  0.19614774,  0.53486174,\n",
       "        0.45518947,  0.27576584,  0.17267266,  0.32017577,  0.62903035,\n",
       "        0.7464396 ,  0.71741337,  0.6169771 ,  0.53120184,  0.70847964,\n",
       "        0.80763113,  1.0726674 ,  1.231542  ,  1.5032519 ,  1.7153411 ,\n",
       "        2.0218375 ,  2.434956  ,  2.6528964 ,  2.6764755 ,  2.372054  ,\n",
       "        2.0895462 ,  1.6690004 ,  1.0944352 ,  0.6025286 ,  0.0004259 ,\n",
       "       -0.30975145, -0.5500624 , -0.601741  , -0.68515015, -0.6631171 ,\n",
       "       -0.5022113 , -0.29255286, -0.13283299,  0.17346303,  0.3740118 ,\n",
       "        0.4734606 ,  0.29483628,  0.03731469, -0.29828346, -0.39820504,\n",
       "       -0.6575372 , -0.74768794, -1.003065  , -0.8936672 , -0.85318416,\n",
       "       -0.63049096, -0.35708758, -0.04774904,  0.12109625,  0.19456455,\n",
       "        0.3020435 ,  0.6074542 ,  0.8731097 ,  1.0916476 ,  0.9329872 ,\n",
       "        0.764035  ,  0.71473134,  0.781593  ,  0.83739305,  0.7346473 ,\n",
       "        0.5969847 ,  0.41676664], dtype=float32)\n",
       "Coordinates:\n",
       "  * time     (time) datetime64[ns] 1982-01-01 1982-02-01 ... 2019-08-01"
      ]
     },
     "execution_count": 94,
     "metadata": {},
     "output_type": "execute_result"
    }
   ],
   "source": [
    "oni"
   ]
  },
  {
   "cell_type": "markdown",
   "metadata": {},
   "source": [
    "### Create dataset for ONI and Nino event timeseries."
   ]
  },
  {
   "cell_type": "code",
   "execution_count": 10,
   "metadata": {},
   "outputs": [],
   "source": [
    "do = xr.Dataset() # Creates an empty xarray dataset.\n",
    "\n",
    "do['oni'] = oni # Add the data array and call it oni\n",
    "do['nino'] = nino # Add the data array and call it nino\n",
    "do.attrs = data.attrs\n",
    "do.oni.attrs = data.anom.attrs\n",
    "\n",
    "# It's always good to add some metadata so that you know what the file contains when you open it!\n",
    "do.oni.attrs['long_name'] = 'Oceanic Nino Index (ONI)'\n",
    "do.oni.attrs['description'] = 'Three month running mean of SST anomalies averaged over the Nino 3.4 region'\n",
    "do.nino.attrs['long_name'] = 'ENSO events based on ONI values above or below 0.5 deg C' "
   ]
  },
  {
   "cell_type": "markdown",
   "metadata": {},
   "source": [
    "### Save the monthly ONI and Nino event timeseries to netcdf file and csv files.\n",
    "\n",
    "Note that this may take quite a while to calculate and save."
   ]
  },
  {
   "cell_type": "code",
   "execution_count": 11,
   "metadata": {},
   "outputs": [],
   "source": [
    "# Save ONI and nino events to a netcdf file.\n",
    "do.to_netcdf(save_path + 'oceanic_nino_index.nc') \n",
    "\n",
    "# Save ONI and nino events to a csv file.\n",
    "dp = do.to_dataframe()\n",
    "dp.to_csv(save_path + 'oceanic_nino_index.csv')"
   ]
  },
  {
   "cell_type": "code",
   "execution_count": 12,
   "metadata": {},
   "outputs": [],
   "source": [
    "data.close()\n",
    "ds.close()\n",
    "do.close()"
   ]
  },
  {
   "cell_type": "code",
   "execution_count": 13,
   "metadata": {},
   "outputs": [],
   "source": [
    "# # Remove the last few months of 1981 from nino34 (we only want values from 1982 onwards.)\n",
    "# ds = ds.isel(time=slice(4, len(ds.nino34) - 1))\n",
    "\n",
    "# # Save over previous SST netcdf file with the last few months of 1981 removed.\n",
    "# ds.to_netcdf(save_path + 'sst_anom_nino34.nc')"
   ]
  },
  {
   "cell_type": "code",
   "execution_count": 102,
   "metadata": {},
   "outputs": [
    {
     "data": {
      "text/html": [
       "<pre>&lt;xarray.DataArray &#x27;time&#x27; (time: 452)&gt;\n",
       "array([&#x27;1982-01-01T00:00:00.000000000&#x27;, &#x27;1982-02-01T00:00:00.000000000&#x27;,\n",
       "       &#x27;1982-03-01T00:00:00.000000000&#x27;, ..., &#x27;2019-06-01T00:00:00.000000000&#x27;,\n",
       "       &#x27;2019-07-01T00:00:00.000000000&#x27;, &#x27;2019-08-01T00:00:00.000000000&#x27;],\n",
       "      dtype=&#x27;datetime64[ns]&#x27;)\n",
       "Coordinates:\n",
       "  * time     (time) datetime64[ns] 1982-01-01 1982-02-01 ... 2019-08-01</pre>"
      ],
      "text/plain": [
       "<xarray.DataArray 'time' (time: 452)>\n",
       "array(['1982-01-01T00:00:00.000000000', '1982-02-01T00:00:00.000000000',\n",
       "       '1982-03-01T00:00:00.000000000', ..., '2019-06-01T00:00:00.000000000',\n",
       "       '2019-07-01T00:00:00.000000000', '2019-08-01T00:00:00.000000000'],\n",
       "      dtype='datetime64[ns]')\n",
       "Coordinates:\n",
       "  * time     (time) datetime64[ns] 1982-01-01 1982-02-01 ... 2019-08-01"
      ]
     },
     "execution_count": 102,
     "metadata": {},
     "output_type": "execute_result"
    }
   ],
   "source": [
    "do.time"
   ]
  },
  {
   "cell_type": "code",
   "execution_count": 132,
   "metadata": {},
   "outputs": [
    {
     "data": {
      "text/html": [
       "<pre>&lt;xarray.Dataset&gt;\n",
       "Dimensions:  (time: 454)\n",
       "Coordinates:\n",
       "  * time     (time) object &#x27;1982-01-01&#x27; &#x27;1982-02-01&#x27; ... &#x27;2019-10-01&#x27;\n",
       "Data variables:\n",
       "    soi      (time) float64 9.4 0.6 2.4 -3.8 -8.2 ... -10.4 -5.6 -4.4 -12.4 -5.6</pre>"
      ],
      "text/plain": [
       "<xarray.Dataset>\n",
       "Dimensions:  (time: 454)\n",
       "Coordinates:\n",
       "  * time     (time) object '1982-01-01' '1982-02-01' ... '2019-10-01'\n",
       "Data variables:\n",
       "    soi      (time) float64 9.4 0.6 2.4 -3.8 -8.2 ... -10.4 -5.6 -4.4 -12.4 -5.6"
      ]
     },
     "execution_count": 132,
     "metadata": {},
     "output_type": "execute_result"
    }
   ],
   "source": [
    "soi = pd.read_csv('data/BoM_SOI.csv')\n",
    "df = xr.Dataset({'soi': ('time', soi.soi.values)}, coords={'time': soi.time.values}) # Creates an empty xarray dataset.\n",
    "df"
   ]
  },
  {
   "cell_type": "code",
   "execution_count": 159,
   "metadata": {},
   "outputs": [
    {
     "data": {
      "text/plain": [
       "<matplotlib.lines.Line2D at 0x7f97f44050b8>"
      ]
     },
     "execution_count": 159,
     "metadata": {},
     "output_type": "execute_result"
    },
    {
     "data": {
      "image/png": "[encoded data removed]",
      "text/plain": [
       "<Figure size 432x288 with 1 Axes>"
      ]
     },
     "metadata": {
      "needs_background": "light"
     },
     "output_type": "display_data"
    }
   ],
   "source": [
    "fig, ax = plt.subplots()\n",
    "ax.plot(df.time, df.soi)\n",
    "ax.axhline(7)\n",
    "ax.axhline(-7)"
   ]
  },
  {
   "cell_type": "code",
   "execution_count": 177,
   "metadata": {},
   "outputs": [],
   "source": [
    "nino = {}\n",
    "nino['time_start'] = [] # datetime format\n",
    "nino['time_end'] = [] # datetime format\n",
    "nino['duration'] = [] # [days]\n",
    "nina = {}\n",
    "nina['time_start'] = [] # datetime format\n",
    "nina['time_end'] = [] # datetime format\n",
    "nina['duration'] = [] # [days]\n",
    "\n",
    "enso_thresh = 6\n",
    "\n",
    "# The nino array is just a time series of months labeled either 'none', 'nino' or 'nina'.\n",
    "events = xr.full_like(df.soi, 'none', dtype='U4')\n",
    "enso = xr.full_like(df.soi, 'none', dtype='U4') # Start by labelling all events as neutral ('none').\n",
    "enso[df.soi < -enso_thresh] = 'nino' # If the SST anomaly is greater than or equal to 0.5°C: label it 'nino'.\n",
    "enso[df.soi > enso_thresh] = 'nina' # If the SST anomaly is less than or equal to -0.5°C: label it 'nina'."
   ]
  },
  {
   "cell_type": "code",
   "execution_count": 178,
   "metadata": {},
   "outputs": [
    {
     "name": "stdout",
     "output_type": "stream",
     "text": [
      "Number of El Nino months: 126\n",
      "Number of La Nina months: 81\n",
      "Number of Neutral months: 247\n"
     ]
    }
   ],
   "source": [
    "months = 2\n",
    "i = 0 # Counter.\n",
    "ev = 0\n",
    "while i < len(enso):\n",
    "    # Check if month 'i' is tagged as 'nino' or 'nina', otherwise just skip to the next month (i + 1).\n",
    "    if enso[i] != 'none':\n",
    "        # Find the next day index that is tagged as 'none'. \n",
    "        # Note that nino[i:] is the nino array neglecting all the days before 'i' and np.argwhere will tell us \n",
    "        # where all the indexes of 'none' are, but we are only interested in the very next 'none' (i.e. [0][0]).\n",
    "\n",
    "        end = np.argwhere([n != enso[i] for n in enso[i:]])[0][0]\n",
    "\n",
    "     \n",
    "        # So, 'end' number of days after day 'i' is when the next non-event occurs \n",
    "        # (i.e. the end of the nina or nino event).\n",
    "        # This means 'end' is the duration of the event. \n",
    "        # If the event duration is shorter than the days threshold, rename all these labels as 'none'.\n",
    "        if end < months:\n",
    "            enso[i:i + end] = ['none']*(end) \n",
    "        \n",
    "        if enso[i] == 'nino':\n",
    "            nino['time_start'].append(df.time[i].item())\n",
    "            nino['time_end'].append(df.time[i + end - 1].item())\n",
    "            nino['duration'].append(end)\n",
    "\n",
    "        elif enso[i] == 'nina':\n",
    "            nina['time_start'].append(df.time[i].item())\n",
    "            nina['time_end'].append(df.time[i + end - 1].item())\n",
    "            nina['duration'].append(end)\n",
    "        # Jump up the counter by all the days we just went through.\n",
    "        i += end + 1\n",
    "    else:\n",
    "        i += 1\n",
    "        \n",
    "print('Number of El Nino events: {}'.format(len(nino['time_start'])))\n",
    "print('Number of La Nina events: {}'.format(len(nina['time_start'])))\n",
    "\n",
    "# Printing the sum of El Nino and La Nina months.\n",
    "print('Number of El Nino months: {}'.format((enso == 'nino').sum().item()))\n",
    "print('Number of La Nina months: {}'.format((enso == 'nina').sum().item()))\n",
    "print('Number of Neutral months: {}'.format((enso == 'none').sum().item()))"
   ]
  },
  {
   "cell_type": "code",
   "execution_count": 188,
   "metadata": {},
   "outputs": [],
   "source": [
    "dnino = pd.DataFrame()\n",
    "dnino['time_start'] = nino['time_start']\n",
    "dnino['time_end'] = nino['time_end']\n",
    "dnino['duration'] = nino['duration']\n",
    "\n",
    "dnina = pd.DataFrame()\n",
    "dnina['time_start'] = nina['time_start']\n",
    "dnina['time_end'] = nina['time_end']\n",
    "dnina['duration'] = nina['duration']\n",
    "\n",
    "dnina.to_csv(save_path + 'BoM_SOI_nina.csv')\n",
    "dnino.to_csv(save_path + 'BoM_SOI_nino.csv')"
   ]
  },
  {
   "cell_type": "code",
   "execution_count": 194,
   "metadata": {},
   "outputs": [],
   "source": [
    "df['nino'] = enso\n",
    "df.to_dataframe().to_csv(save_path + 'BoM_SOI_ENSO.csv')"
   ]
  },
  {
   "cell_type": "code",
   "execution_count": null,
   "metadata": {},
   "outputs": [],
   "source": []
  },
  {
   "cell_type": "code",
   "execution_count": 193,
   "metadata": {},
   "outputs": [],
   "source": []
  },
  {
   "cell_type": "code",
   "execution_count": null,
   "metadata": {},
   "outputs": [],
   "source": []
  }
 ],
 "metadata": {
  "kernelspec": {
   "display_name": "Python 3",
   "language": "python",
   "name": "python3"
  },
  "language_info": {
   "codemirror_mode": {
    "name": "ipython",
    "version": 3
   },
   "file_extension": ".py",
   "mimetype": "text/x-python",
   "name": "python",
   "nbconvert_exporter": "python",
   "pygments_lexer": "ipython3",
   "version": "3.6.7"
  }
 },
 "nbformat": 4,
 "nbformat_minor": 2
}
