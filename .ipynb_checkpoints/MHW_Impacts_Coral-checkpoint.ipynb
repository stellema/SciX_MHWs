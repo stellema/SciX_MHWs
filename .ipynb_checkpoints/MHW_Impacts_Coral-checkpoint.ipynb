{
 "cells": [
  {
   "cell_type": "markdown",
   "metadata": {},
   "source": [
    "# Coral bleaching alert\n",
    "\n",
    "To get coral bleaching data at your prefered latitude and longitude, go to http://oos.soest.hawaii.edu/thredds/ncss/hioos/satellite/dhw_5km/dataset.html and enter the coordinated (note that it can't be a single point) and click submit. It will probably take several minutes to compute and will be saved to you downloads file."
   ]
  },
  {
   "cell_type": "code",
   "execution_count": 1,
   "metadata": {},
   "outputs": [],
   "source": [
    "# Load required modules.\n",
    "import numpy as np\n",
    "import xarray as xr\n",
    "import pandas as pd\n",
    "import scipy.stats as stats\n",
    "from datetime import date, timedelta\n",
    "from matplotlib import pyplot as plt\n",
    "from pandas.plotting import register_matplotlib_converters\n",
    "register_matplotlib_converters()\n",
    "\n",
    "%matplotlib inline"
   ]
  },
  {
   "cell_type": "markdown",
   "metadata": {},
   "source": [
    "## Enter the path where you saved the data here:"
   ]
  },
  {
   "cell_type": "code",
   "execution_count": 2,
   "metadata": {},
   "outputs": [],
   "source": [
    "# Only use forward slashes!\n",
    "data_path = 'C:/Users/astel/Documents/GitHub/scix_mhws/data/'"
   ]
  },
  {
   "cell_type": "markdown",
   "metadata": {},
   "source": [
    "## Enter your selected latitude and longitude here:"
   ]
  },
  {
   "cell_type": "code",
   "execution_count": 3,
   "metadata": {},
   "outputs": [],
   "source": [
    "lat = -16.125\n",
    "lon = 146.625"
   ]
  },
  {
   "cell_type": "markdown",
   "metadata": {},
   "source": [
    "Load the MHW .csv files"
   ]
  },
  {
   "cell_type": "code",
   "execution_count": 4,
   "metadata": {},
   "outputs": [
    {
     "data": {
      "text/html": [
       "<div>\n",
       "<style scoped>\n",
       "    .dataframe tbody tr th:only-of-type {\n",
       "        vertical-align: middle;\n",
       "    }\n",
       "\n",
       "    .dataframe tbody tr th {\n",
       "        vertical-align: top;\n",
       "    }\n",
       "\n",
       "    .dataframe thead th {\n",
       "        text-align: right;\n",
       "    }\n",
       "</style>\n",
       "<table border=\"1\" class=\"dataframe\">\n",
       "  <thead>\n",
       "    <tr style=\"text-align: right;\">\n",
       "      <th></th>\n",
       "      <th>lon</th>\n",
       "      <th>lat</th>\n",
       "      <th>event_no</th>\n",
       "      <th>date_start</th>\n",
       "      <th>date_peak</th>\n",
       "      <th>date_end</th>\n",
       "      <th>duration</th>\n",
       "      <th>intensity_mean</th>\n",
       "      <th>intensity_max</th>\n",
       "      <th>intensity_cumulative</th>\n",
       "    </tr>\n",
       "  </thead>\n",
       "  <tbody>\n",
       "    <tr>\n",
       "      <th>0</th>\n",
       "      <td>146.625</td>\n",
       "      <td>-16.125</td>\n",
       "      <td>1</td>\n",
       "      <td>1982-03-08</td>\n",
       "      <td>1982-03-13</td>\n",
       "      <td>1982-03-16</td>\n",
       "      <td>9</td>\n",
       "      <td>1.437</td>\n",
       "      <td>1.73</td>\n",
       "      <td>12.93</td>\n",
       "    </tr>\n",
       "    <tr>\n",
       "      <th>1</th>\n",
       "      <td>146.625</td>\n",
       "      <td>-16.125</td>\n",
       "      <td>2</td>\n",
       "      <td>1983-06-05</td>\n",
       "      <td>1983-06-12</td>\n",
       "      <td>1983-06-16</td>\n",
       "      <td>12</td>\n",
       "      <td>1.044</td>\n",
       "      <td>1.20</td>\n",
       "      <td>12.53</td>\n",
       "    </tr>\n",
       "    <tr>\n",
       "      <th>2</th>\n",
       "      <td>146.625</td>\n",
       "      <td>-16.125</td>\n",
       "      <td>3</td>\n",
       "      <td>1983-10-15</td>\n",
       "      <td>1983-10-17</td>\n",
       "      <td>1983-10-19</td>\n",
       "      <td>5</td>\n",
       "      <td>1.596</td>\n",
       "      <td>2.13</td>\n",
       "      <td>7.98</td>\n",
       "    </tr>\n",
       "    <tr>\n",
       "      <th>3</th>\n",
       "      <td>146.625</td>\n",
       "      <td>-16.125</td>\n",
       "      <td>4</td>\n",
       "      <td>1983-11-09</td>\n",
       "      <td>1983-11-10</td>\n",
       "      <td>1983-11-13</td>\n",
       "      <td>5</td>\n",
       "      <td>1.676</td>\n",
       "      <td>1.96</td>\n",
       "      <td>8.38</td>\n",
       "    </tr>\n",
       "    <tr>\n",
       "      <th>4</th>\n",
       "      <td>146.625</td>\n",
       "      <td>-16.125</td>\n",
       "      <td>5</td>\n",
       "      <td>1984-01-31</td>\n",
       "      <td>1984-02-03</td>\n",
       "      <td>1984-02-07</td>\n",
       "      <td>8</td>\n",
       "      <td>1.105</td>\n",
       "      <td>1.22</td>\n",
       "      <td>8.84</td>\n",
       "    </tr>\n",
       "  </tbody>\n",
       "</table>\n",
       "</div>"
      ],
      "text/plain": [
       "       lon     lat  event_no date_start  date_peak   date_end duration  \\\n",
       "0  146.625 -16.125         1 1982-03-08 1982-03-13 1982-03-16        9   \n",
       "1  146.625 -16.125         2 1983-06-05 1983-06-12 1983-06-16       12   \n",
       "2  146.625 -16.125         3 1983-10-15 1983-10-17 1983-10-19        5   \n",
       "3  146.625 -16.125         4 1983-11-09 1983-11-10 1983-11-13        5   \n",
       "4  146.625 -16.125         5 1984-01-31 1984-02-03 1984-02-07        8   \n",
       "\n",
       "   intensity_mean  intensity_max  intensity_cumulative  \n",
       "0           1.437           1.73                 12.93  \n",
       "1           1.044           1.20                 12.53  \n",
       "2           1.596           2.13                  7.98  \n",
       "3           1.676           1.96                  8.38  \n",
       "4           1.105           1.22                  8.84  "
      ]
     },
     "execution_count": 4,
     "metadata": {},
     "output_type": "execute_result"
    }
   ],
   "source": [
    "mhws = pd.read_csv(data_path + 'event_lon_{}_lat_{}.csv'.format(lon, lat), parse_dates=[3, 4, 5, 6])\n",
    "mhws.head()"
   ]
  },
  {
   "cell_type": "markdown",
   "metadata": {},
   "source": [
    "### Convert mhw pandas data to xarray:"
   ]
  },
  {
   "cell_type": "code",
   "execution_count": 5,
   "metadata": {},
   "outputs": [
    {
     "name": "stdout",
     "output_type": "stream",
     "text": [
      "<xarray.Dataset>\n",
      "Dimensions:               (index: 88)\n",
      "Coordinates:\n",
      "  * index                 (index) datetime64[ns] 1982-03-08 ... 2018-12-21\n",
      "Data variables:\n",
      "    lon                   (index) float64 146.6 146.6 146.6 ... 146.6 146.6\n",
      "    lat                   (index) float64 -16.12 -16.12 -16.12 ... -16.12 -16.12\n",
      "    event_no              (index) int64 1 2 3 4 5 6 7 8 ... 82 83 84 85 86 87 88\n",
      "    date_start            (index) datetime64[ns] 1982-03-08 ... 2018-12-21\n",
      "    date_peak             (index) datetime64[ns] 1982-03-13 ... 2018-12-21\n",
      "    date_end              (index) datetime64[ns] 1982-03-16 ... 2018-12-29\n",
      "    duration              (index) int32 9 12 5 5 8 9 6 13 ... 8 14 5 25 6 7 7 9\n",
      "    intensity_mean        (index) float64 1.437 1.044 1.596 ... 0.983 1.621\n",
      "    intensity_max         (index) float64 1.73 1.2 2.13 1.96 ... 1.51 1.07 1.79\n",
      "    intensity_cumulative  (index) float64 12.93 12.53 7.98 ... 9.36 6.88 14.59\n"
     ]
    }
   ],
   "source": [
    "# Creating a new pandas dataframe where the first column is now 'date_start'.\n",
    "mhw = mhws.reset_index(level=0, drop=True)\n",
    "mhw = mhws.set_index('date_start')\n",
    "mhw.head()\n",
    "\n",
    "# Converting to xarray.\n",
    "mhw = mhws.to_xarray()\n",
    "mhw['duration'] = mhw.duration.astype(dtype=int) # For some reason the duration wasn't loaded as numbers, so fixing that.\n",
    "\n",
    "# Changing the coordinate to date_start (keeping the name 'index')\n",
    "# This way, all MHWs are sorted into the year that they started (similar to Oliver at al. 2018)\n",
    "mhw['index'] = mhw.date_start\n",
    "# mhw['index'] = pd.to_datetime(mhw['index'], errors='coerce') # fixes a random error.\n",
    "\n",
    "print(mhw)"
   ]
  },
  {
   "cell_type": "markdown",
   "metadata": {},
   "source": [
    "### Convert MHW data to annual "
   ]
  },
  {
   "cell_type": "code",
   "execution_count": 6,
   "metadata": {},
   "outputs": [
    {
     "data": {
      "text/plain": [
       "<xarray.Dataset>\n",
       "Dimensions:               (index: 37)\n",
       "Coordinates:\n",
       "  * index                 (index) datetime64[ns] 1982-12-31 ... 2018-12-31\n",
       "Data variables:\n",
       "    lon                   (index) float64 146.6 146.6 146.6 ... 146.6 146.6\n",
       "    lat                   (index) float64 -16.12 -16.12 -16.12 ... -16.12 -16.12\n",
       "    event_no              (index) float64 1.0 3.0 5.0 nan ... 78.5 84.0 87.5\n",
       "    duration              (index) float64 9.0 7.333 8.0 nan ... 22.83 11.4 8.0\n",
       "    intensity_mean        (index) float64 1.437 1.439 1.105 ... 1.261 1.302\n",
       "    intensity_max         (index) float64 1.73 1.763 1.22 ... 1.96 1.528 1.43\n",
       "    intensity_cumulative  (index) float64 12.93 9.63 8.84 ... 31.66 15.41 10.73"
      ]
     },
     "execution_count": 6,
     "metadata": {},
     "output_type": "execute_result"
    }
   ],
   "source": [
    "mhw = mhw.resample(index='Y').mean()\n",
    "mhw"
   ]
  },
  {
   "cell_type": "markdown",
   "metadata": {},
   "source": [
    "# Load the NOAA coral reef watch data.\n",
    "\n",
    "Note that this file contains timeseries of coral alert data at a number of different lat/lons over the great barrier reef."
   ]
  },
  {
   "cell_type": "code",
   "execution_count": 7,
   "metadata": {},
   "outputs": [
    {
     "data": {
      "text/plain": [
       "<xarray.Dataset>\n",
       "Dimensions:       (latitude: 251, longitude: 181, time: 12696)\n",
       "Coordinates:\n",
       "  * latitude      (latitude) float32 -12.524996 -12.574999 ... -25.024996\n",
       "  * longitude     (longitude) float32 144.975 145.025 ... 153.92499 153.975\n",
       "  * time          (time) datetime64[ns] 1985-03-25T12:00:00 ... 2019-12-31T12:00:00\n",
       "Data variables:\n",
       "    surface_flag  (latitude, longitude) int8 ...\n",
       "    CRW_BAA       (time, latitude, longitude) float32 ...\n",
       "Attributes:\n",
       "    acknowledgement:                 NOAA Coral Reef Watch\n",
       "    Conventions:                     CF-1.6, ACDD-1.3\n",
       "    title:                           NOAA Coral Reef Watch Operational Daily ...\n",
       "    summary:                         Contains a suite of NOAA Coral Reef Watc...\n",
       "    references:                      http://coralreefwatch.noaa.gov/satellite/\n",
       "    institution:                     National Oceanic and Atmospheric Adminis...\n",
       "    comment:                         This is a product of the NOAA Coral Reef...\n",
       "    license:                         The data produced by Coral Reef Watch ar...\n",
       "    id:                              dhw_5km\n",
       "    naming_authority:                org.pacioos\n",
       "    product_version:                 3.1\n",
       "    date_created:                    2017-05-19\n",
       "    date_issued:                     2017-05-19\n",
       "    date_modified:                   2018-11-14\n",
       "    date_metadata_modified:          2018-11-14\n",
       "    time_coverage_start:             1985-03-25T12:00:00Z\n",
       "    time_coverage_duration:          P1D\n",
       "    time_coverage_end:               present\n",
       "    time_coverage_resolution:        P1D\n",
       "    source:                          satellite data\n",
       "    platform:                        Earth Observation Satellites > GOES (Geo...\n",
       "    instrument:                      Earth Remote Sensing Instruments > Passi...\n",
       "    platform_vocabulary:             GCMD Platform Keywords\n",
       "    instrument_vocabulary:           GCMD Instrument Keywords\n",
       "    keywords:                        Earth Science > Oceans > Coastal Process...\n",
       "    keywords_vocabulary:             GCMD Science Keywords\n",
       "    standard_name_vocabulary:        CF Standard Name Table v39\n",
       "    geospatial_bounds:               POLYGON ((-90 -180, 90 -180, 90 180, -90...\n",
       "    geospatial_lon_min:              144.97500610351562\n",
       "    geospatial_lon_max:              153.97500610351562\n",
       "    geospatial_lat_min:              -25.024995803833008\n",
       "    geospatial_lat_max:              -12.524995803833008\n",
       "    geospatial_lat_units:            degrees_north\n",
       "    geospatial_lat_resolution:       0.05\n",
       "    geospatial_lon_units:            degrees_east\n",
       "    geospatial_lon_resolution:       0.05\n",
       "    creator_type:                    institution\n",
       "    creator_institution:             National Oceanic and Atmospheric Adminis...\n",
       "    creator_name:                    NOAA Coral Reef Watch\n",
       "    creator_email:                   coralreefwatch@noaa.gov\n",
       "    creator_url:                     http://coralreefwatch.noaa.gov\n",
       "    project:                         NOAA Coral Reef Watch\n",
       "    program:                         NOAA Coral Reef Watch\n",
       "    publisher_type:                  group\n",
       "    publisher_institution:           University of Hawaii\n",
       "    publisher_name:                  Pacific Islands Ocean Observing System (...\n",
       "    publisher_url:                   http://pacioos.org\n",
       "    publisher_email:                 info@pacioos.org\n",
       "    contributor_name:                C. Mark Eakin\n",
       "    contributor_role:                Coordinator, NOAA Coral Reef Watch\n",
       "    processing_level:                Level 4\n",
       "    cdm_data_type:                   Grid\n",
       "    geospatial_bounds_crs:           EPSG:4326\n",
       "    history:                         Data obtained from NOAA Coral Reef Watch...\n",
       "    Metadata_Link:                   http://pacioos.org/metadata/dhw_5km.html\n",
       "    ISO_Topic_Categories:            biota, oceans\n",
       "    locations:                       Geographic Region > Global Ocean\n",
       "    locations_vocabulary:            GCMD Location Keywords\n",
       "    geospatial_vertical_min:         0.0\n",
       "    geospatial_vertical_max:         0.0\n",
       "    geospatial_vertical_units:       meters\n",
       "    geospatial_vertical_positive:    up\n",
       "    geospatial_vertical_resolution:  0.0\n",
       "    History:                         Translated to CF-1.0 Conventions by Netc..."
      ]
     },
     "execution_count": 7,
     "metadata": {},
     "output_type": "execute_result"
    }
   ],
   "source": [
    "# http://oos.soest.hawaii.edu/thredds/ncss/hioos/satellite/dhw_5km/dataset.html\n",
    "ds = xr.open_dataset(data_path + 'NOAA_coral_alert_gbr.nc')\n",
    "ds"
   ]
  },
  {
   "cell_type": "code",
   "execution_count": 8,
   "metadata": {},
   "outputs": [
    {
     "data": {
      "text/plain": [
       "<xarray.Dataset>\n",
       "Dimensions:       (year: 35)\n",
       "Coordinates:\n",
       "    latitude      float32 -16.524996\n",
       "    longitude     float32 146.525\n",
       "  * year          (year) int64 1985 1986 1987 1988 1989 ... 2016 2017 2018 2019\n",
       "Data variables:\n",
       "    surface_flag  (year) int32 0 0 0 0 0 0 0 0 0 0 0 0 ... 0 0 0 0 0 0 0 0 0 0 0\n",
       "    CRW_BAA       (year) float32 27.0 51.0 118.0 32.0 ... 183.0 185.0 88.0 35.0"
      ]
     },
     "execution_count": 8,
     "metadata": {},
     "output_type": "execute_result"
    }
   ],
   "source": [
    "# Select your lat/lon (or don't to get the average over the area) and use groupby to find the annual sum.\n",
    "# Note that the latitude and longitude must be exactly the same as in the file (use ds.longitude to check, etc).\n",
    "ds = ds.sel(latitude=-16.524996, longitude=146.525).groupby('time.year').sum()\n",
    "ds"
   ]
  },
  {
   "cell_type": "code",
   "execution_count": 9,
   "metadata": {},
   "outputs": [
    {
     "data": {
      "text/plain": [
       "<xarray.Dataset>\n",
       "Dimensions:               (index: 35)\n",
       "Coordinates:\n",
       "  * index                 (index) datetime64[ns] 1984-12-31 ... 2018-12-31\n",
       "Data variables:\n",
       "    lon                   (index) float64 146.6 nan nan ... 146.6 146.6 146.6\n",
       "    lat                   (index) float64 -16.12 nan nan ... -16.12 -16.12\n",
       "    event_no              (index) float64 5.0 nan nan 6.0 ... 78.5 84.0 87.5\n",
       "    duration              (index) float64 8.0 nan nan 9.0 ... 9.5 22.83 11.4 8.0\n",
       "    intensity_mean        (index) float64 1.105 nan nan ... 1.405 1.261 1.302\n",
       "    intensity_max         (index) float64 1.22 nan nan 1.59 ... 1.96 1.528 1.43\n",
       "    intensity_cumulative  (index) float64 8.84 nan nan ... 31.66 15.41 10.73"
      ]
     },
     "execution_count": 9,
     "metadata": {},
     "output_type": "execute_result"
    }
   ],
   "source": [
    "# We only have bleaching data from 1985 to 2020 (wheras we have MHW data from 1982 to 2020).\n",
    "# So we will slice the MHW data to match.\n",
    "mhw = mhw.sel(index=slice('1984-12-31', '2020-12-31'))\n",
    "mhw"
   ]
  },
  {
   "cell_type": "markdown",
   "metadata": {},
   "source": [
    "# Scatter plot of MHW duration as a function of coral bleaching"
   ]
  },
  {
   "cell_type": "code",
   "execution_count": 11,
   "metadata": {},
   "outputs": [
    {
     "data": {
      "image/png": "[encoded data removed]",
      "text/plain": [
       "<Figure size 432x360 with 1 Axes>"
      ]
     },
     "metadata": {
      "needs_background": "light"
     },
     "output_type": "display_data"
    }
   ],
   "source": [
    "plt.figure(figsize=(6, 5))\n",
    "plt.title('Coral Bleaching as a function of MHW duration')\n",
    "\n",
    "# Using .fillna(0) because not all years had a MHW and these years were filled with NaN\n",
    "# fillna(0) will replace NaN values with zero.\n",
    "plt.scatter(mhw.duration.fillna(0), ds.CRW_BAA)\n",
    "plt.plot(np.unique(mhw.duration.fillna(0)), \n",
    "         np.poly1d(np.polyfit(mhw.duration.fillna(0), ds.CRW_BAA, 1))(np.unique(mhw.duration.fillna(0))), color='k')\n",
    "plt.xlabel('MHW mean duration/year')\n",
    "plt.ylabel('Coral Bleaching')\n",
    "plt.savefig('coral_MHW_duration.png')"
   ]
  },
  {
   "cell_type": "markdown",
   "metadata": {},
   "source": [
    "# Pearson R correlation test "
   ]
  },
  {
   "cell_type": "code",
   "execution_count": 12,
   "metadata": {},
   "outputs": [
    {
     "name": "stdout",
     "output_type": "stream",
     "text": [
      "(0.38165045164731, 0.02368064605026926)\n"
     ]
    }
   ],
   "source": [
    "print(stats.pearsonr(mhw.duration.fillna(0), ds.CRW_BAA) )"
   ]
  },
  {
   "cell_type": "code",
   "execution_count": null,
   "metadata": {},
   "outputs": [],
   "source": []
  },
  {
   "cell_type": "code",
   "execution_count": null,
   "metadata": {},
   "outputs": [],
   "source": []
  }
 ],
 "metadata": {
  "kernelspec": {
   "display_name": "Python 3",
   "language": "python",
   "name": "python3"
  },
  "language_info": {
   "codemirror_mode": {
    "name": "ipython",
    "version": 3
   },
   "file_extension": ".py",
   "mimetype": "text/x-python",
   "name": "python",
   "nbconvert_exporter": "python",
   "pygments_lexer": "ipython3",
   "version": "3.7.0"
  }
 },
 "nbformat": 4,
 "nbformat_minor": 2
}
