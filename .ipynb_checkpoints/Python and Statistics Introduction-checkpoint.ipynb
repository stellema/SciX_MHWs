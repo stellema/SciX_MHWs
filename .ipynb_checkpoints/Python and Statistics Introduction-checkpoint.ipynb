{
 "cells": [
  {
   "cell_type": "markdown",
   "metadata": {},
   "source": [
    "# Python introduction\n",
    "\n",
    "This notebook uses two additional files to run: BoM_SOI.csv and sst_anom_nino34.nc\n",
    "\n",
    "## Modules\n",
    "A module is a file consisting of Python code. Load these at the start.\n"
   ]
  },
  {
   "cell_type": "code",
   "execution_count": 1,
   "metadata": {
    "slideshow": {
     "slide_type": "-"
    }
   },
   "outputs": [],
   "source": [
    "import random\n",
    "import numpy as np\n",
    "import xarray as xr\n",
    "import pandas as pd\n",
    "import scipy.stats as stats\n",
    "import matplotlib.pyplot as plt"
   ]
  },
  {
   "cell_type": "markdown",
   "metadata": {},
   "source": [
    "Write your code and each cell and press shift enter to execute the code. The output will be shown below."
   ]
  },
  {
   "cell_type": "code",
   "execution_count": 2,
   "metadata": {},
   "outputs": [
    {
     "data": {
      "text/plain": [
       "0.5"
      ]
     },
     "execution_count": 2,
     "metadata": {},
     "output_type": "execute_result"
    }
   ],
   "source": [
    "2/4"
   ]
  },
  {
   "cell_type": "markdown",
   "metadata": {},
   "source": [
    "Only the last line of code will be shown below, unless you use a print statement."
   ]
  },
  {
   "cell_type": "code",
   "execution_count": 3,
   "metadata": {},
   "outputs": [
    {
     "name": "stdout",
     "output_type": "stream",
     "text": [
      "8\n",
      "2\n"
     ]
    }
   ],
   "source": [
    "print(2**3)\n",
    "print(1+1)"
   ]
  },
  {
   "cell_type": "markdown",
   "metadata": {},
   "source": [
    "As we can see, only the result in the print statement and the result of the last line was shown.\n",
    "\n",
    "# Comments\n",
    "\n",
    "Use # to write comments that will not be interpreted as python code."
   ]
  },
  {
   "cell_type": "code",
   "execution_count": 4,
   "metadata": {},
   "outputs": [],
   "source": [
    "# This is a comment."
   ]
  },
  {
   "cell_type": "markdown",
   "metadata": {},
   "source": [
    "## Variables\n",
    "\n",
    "You can name an object (e.g. a number or letter). Note that variables are case sensitive - lower case and capitals will not be interpreted as the same thing."
   ]
  },
  {
   "cell_type": "code",
   "execution_count": 5,
   "metadata": {},
   "outputs": [
    {
     "name": "stdout",
     "output_type": "stream",
     "text": [
      "4\n"
     ]
    }
   ],
   "source": [
    "x = 4\n",
    "print(x)"
   ]
  },
  {
   "cell_type": "code",
   "execution_count": 6,
   "metadata": {},
   "outputs": [
    {
     "name": "stdout",
     "output_type": "stream",
     "text": [
      "4 5\n"
     ]
    }
   ],
   "source": [
    "\n",
    "X = 5\n",
    "print(x, X) # Use a comma to separate two variables in print statements. A space will automatically be added."
   ]
  },
  {
   "cell_type": "markdown",
   "metadata": {},
   "source": [
    "## Strings\n",
    "\n",
    "Strings represent characters and you can create a string using single or double quotation marks. "
   ]
  },
  {
   "cell_type": "code",
   "execution_count": 7,
   "metadata": {},
   "outputs": [
    {
     "name": "stdout",
     "output_type": "stream",
     "text": [
      "Hello World\n"
     ]
    }
   ],
   "source": [
    "a = 'Hello'\n",
    "b = 'World'\n",
    "print(a, b)"
   ]
  },
  {
   "cell_type": "markdown",
   "metadata": {},
   "source": [
    "You can add strings together. Note that a space will not be added between two strings (it was the print function that did that),"
   ]
  },
  {
   "cell_type": "code",
   "execution_count": 8,
   "metadata": {},
   "outputs": [
    {
     "name": "stdout",
     "output_type": "stream",
     "text": [
      "HelloWorld\n"
     ]
    }
   ],
   "source": [
    "print(a+b)"
   ]
  },
  {
   "cell_type": "markdown",
   "metadata": {},
   "source": [
    "Strings can be numbers, but they will not be interpreted as numbers and you cannot add a string and a number."
   ]
  },
  {
   "cell_type": "code",
   "execution_count": 9,
   "metadata": {},
   "outputs": [
    {
     "name": "stdout",
     "output_type": "stream",
     "text": [
      "45\n"
     ]
    }
   ],
   "source": [
    "c = \"4\"\n",
    "d = '5'\n",
    "print(c + d)"
   ]
  },
  {
   "cell_type": "code",
   "execution_count": 10,
   "metadata": {},
   "outputs": [
    {
     "ename": "TypeError",
     "evalue": "can only concatenate str (not \"int\") to str",
     "output_type": "error",
     "traceback": [
      "\u001b[1;31m---------------------------------------------------------------------------\u001b[0m",
      "\u001b[1;31mTypeError\u001b[0m                                 Traceback (most recent call last)",
      "\u001b[1;32m<ipython-input-10-9d321d5b70f7>\u001b[0m in \u001b[0;36m<module>\u001b[1;34m()\u001b[0m\n\u001b[0;32m      1\u001b[0m \u001b[0me\u001b[0m \u001b[1;33m=\u001b[0m \u001b[1;36m6\u001b[0m\u001b[1;33m\u001b[0m\u001b[0m\n\u001b[1;32m----> 2\u001b[1;33m \u001b[0mprint\u001b[0m\u001b[1;33m(\u001b[0m\u001b[0mc\u001b[0m \u001b[1;33m+\u001b[0m \u001b[0me\u001b[0m\u001b[1;33m)\u001b[0m\u001b[1;33m\u001b[0m\u001b[0m\n\u001b[0m",
      "\u001b[1;31mTypeError\u001b[0m: can only concatenate str (not \"int\") to str"
     ]
    }
   ],
   "source": [
    "e = 6\n",
    "print(c + e)"
   ]
  },
  {
   "cell_type": "markdown",
   "metadata": {},
   "source": [
    "As expected, we got an error when trying to add the string and number together. Concatenate means to link (things) together in a chain or series.\n",
    "\n",
    "We can, however, convert strings to numbers and vice versa."
   ]
  },
  {
   "cell_type": "code",
   "execution_count": 11,
   "metadata": {},
   "outputs": [
    {
     "name": "stdout",
     "output_type": "stream",
     "text": [
      "46\n"
     ]
    }
   ],
   "source": [
    "# Convert float to string using str()\n",
    "print(c + str(e))"
   ]
  },
  {
   "cell_type": "markdown",
   "metadata": {},
   "source": [
    "The format function. We can use curly brackets as placeholders to insert strings or numbers into another string. It means we don't have to worry about string/number conversion (because it does it for us)."
   ]
  },
  {
   "cell_type": "code",
   "execution_count": 12,
   "metadata": {},
   "outputs": [
    {
     "name": "stdout",
     "output_type": "stream",
     "text": [
      "c=4, d=5\n"
     ]
    }
   ],
   "source": [
    "print('c={}, d={}'.format(c, d))"
   ]
  },
  {
   "cell_type": "code",
   "execution_count": 13,
   "metadata": {},
   "outputs": [
    {
     "name": "stdout",
     "output_type": "stream",
     "text": [
      "c=d, d=5.23546\n"
     ]
    }
   ],
   "source": [
    "print('c={}, d={}'.format('d', 5.23546))"
   ]
  },
  {
   "cell_type": "markdown",
   "metadata": {},
   "source": [
    "We can also use it to round decimals. First use ':' and then specify the number of decimal places. In the next case we use '.2' to indicate two decimal places. the 'f' means a floating point number, which is basically just the name for a decimal."
   ]
  },
  {
   "cell_type": "code",
   "execution_count": 14,
   "metadata": {},
   "outputs": [
    {
     "name": "stdout",
     "output_type": "stream",
     "text": [
      "c=1.12, d=5\n"
     ]
    }
   ],
   "source": [
    "print('c={:.2f}, d={:.0f}'.format(1.125, 5.23546))"
   ]
  },
  {
   "cell_type": "markdown",
   "metadata": {},
   "source": [
    "### Booleans (True/False)"
   ]
  },
  {
   "cell_type": "code",
   "execution_count": 15,
   "metadata": {},
   "outputs": [
    {
     "name": "stdout",
     "output_type": "stream",
     "text": [
      "False\n"
     ]
    }
   ],
   "source": [
    "var1 = 4\n",
    "var2 = 5\n",
    "print(var1 == var2) # Double equal signs means to check equality (not make it equal)."
   ]
  },
  {
   "cell_type": "markdown",
   "metadata": {},
   "source": [
    "As expected, four does not equal five."
   ]
  },
  {
   "cell_type": "markdown",
   "metadata": {},
   "source": [
    "## Arrays\n",
    "\n",
    "Arrays and lists are both used in Python to store data, but they don't serve exactly the same purposes. They both can be used to store any data type (real numbers, strings, etc). \n",
    "\n",
    "We mostly want to use arrays, so for that we use numpy (which we shortened at the start to be called np).\n",
    "\n",
    "Lists are created using square brackets and each item (or element) is seperated with a comma.\n",
    "\n",
    "We can select elements using their position (called indexing)."
   ]
  },
  {
   "cell_type": "code",
   "execution_count": null,
   "metadata": {},
   "outputs": [],
   "source": []
  },
  {
   "cell_type": "code",
   "execution_count": 16,
   "metadata": {},
   "outputs": [
    {
     "name": "stdout",
     "output_type": "stream",
     "text": [
      "[1, 2, 3, 4, 5]\n",
      "5\n",
      "3\n"
     ]
    }
   ],
   "source": [
    "y = [1, 2, 3, 4, 5] # List not array!\n",
    "print(y)\n",
    "print(y[4]) # First element of y\n",
    "print(y[-3]) # Last element of y"
   ]
  },
  {
   "cell_type": "code",
   "execution_count": 12,
   "metadata": {},
   "outputs": [
    {
     "name": "stdout",
     "output_type": "stream",
     "text": [
      "[1 2 3 4 5]\n"
     ]
    }
   ],
   "source": [
    "# Converting our list to an array.\n",
    "z = np.array([1, 2, 3, 4, 5])\n",
    "print(z)"
   ]
  },
  {
   "cell_type": "code",
   "execution_count": 13,
   "metadata": {},
   "outputs": [
    {
     "data": {
      "text/plain": [
       "1"
      ]
     },
     "execution_count": 13,
     "metadata": {},
     "output_type": "execute_result"
    }
   ],
   "source": [
    "z[0]"
   ]
  },
  {
   "cell_type": "code",
   "execution_count": 14,
   "metadata": {},
   "outputs": [
    {
     "data": {
      "text/plain": [
       "array([1, 3, 5, 7, 9])"
      ]
     },
     "execution_count": 14,
     "metadata": {},
     "output_type": "execute_result"
    }
   ],
   "source": [
    "# We can created the same array using the numpy arange function.\n",
    "np.arange(1, 11, 2)"
   ]
  },
  {
   "cell_type": "markdown",
   "metadata": {},
   "source": [
    "Note that it starts at zero, not one and goes to four not five."
   ]
  },
  {
   "cell_type": "code",
   "execution_count": 15,
   "metadata": {},
   "outputs": [
    {
     "data": {
      "text/plain": [
       "array([1, 2, 3])"
      ]
     },
     "execution_count": 15,
     "metadata": {},
     "output_type": "execute_result"
    }
   ],
   "source": [
    "# Start at one and end at three.\n",
    "np.arange(1, 4)"
   ]
  },
  {
   "cell_type": "code",
   "execution_count": 16,
   "metadata": {},
   "outputs": [
    {
     "ename": "NameError",
     "evalue": "name 'y' is not defined",
     "output_type": "error",
     "traceback": [
      "\u001b[1;31m---------------------------------------------------------------------------\u001b[0m",
      "\u001b[1;31mNameError\u001b[0m                                 Traceback (most recent call last)",
      "\u001b[1;32m<ipython-input-16-82c357251abc>\u001b[0m in \u001b[0;36m<module>\u001b[1;34m()\u001b[0m\n\u001b[0;32m      1\u001b[0m \u001b[1;31m# We can check that each element in y is the same as z.\u001b[0m\u001b[1;33m\u001b[0m\u001b[1;33m\u001b[0m\u001b[0m\n\u001b[1;32m----> 2\u001b[1;33m \u001b[0my\u001b[0m \u001b[1;33m==\u001b[0m \u001b[0mz\u001b[0m\u001b[1;33m\u001b[0m\u001b[0m\n\u001b[0m",
      "\u001b[1;31mNameError\u001b[0m: name 'y' is not defined"
     ]
    }
   ],
   "source": [
    "# We can check that each element in y is the same as z.\n",
    "y == z"
   ]
  },
  {
   "cell_type": "code",
   "execution_count": 17,
   "metadata": {},
   "outputs": [
    {
     "ename": "NameError",
     "evalue": "name 'y' is not defined",
     "output_type": "error",
     "traceback": [
      "\u001b[1;31m---------------------------------------------------------------------------\u001b[0m",
      "\u001b[1;31mNameError\u001b[0m                                 Traceback (most recent call last)",
      "\u001b[1;32m<ipython-input-17-8a69645789d1>\u001b[0m in \u001b[0;36m<module>\u001b[1;34m()\u001b[0m\n\u001b[0;32m      1\u001b[0m \u001b[1;31m# We can also check that all elements in y is the same as z.\u001b[0m\u001b[1;33m\u001b[0m\u001b[1;33m\u001b[0m\u001b[0m\n\u001b[1;32m----> 2\u001b[1;33m \u001b[0mall\u001b[0m\u001b[1;33m(\u001b[0m\u001b[0my\u001b[0m \u001b[1;33m==\u001b[0m \u001b[0mz\u001b[0m\u001b[1;33m)\u001b[0m\u001b[1;33m\u001b[0m\u001b[0m\n\u001b[0m",
      "\u001b[1;31mNameError\u001b[0m: name 'y' is not defined"
     ]
    }
   ],
   "source": [
    "# We can also check that all elements in y is the same as z.\n",
    "all(y == z)"
   ]
  },
  {
   "cell_type": "markdown",
   "metadata": {},
   "source": [
    "We can also create 2D arrays, which are like multiple arrays stored as the same variable. "
   ]
  },
  {
   "cell_type": "code",
   "execution_count": 18,
   "metadata": {},
   "outputs": [
    {
     "data": {
      "text/plain": [
       "array([[ 1,  2,  3],\n",
       "       [26, 27, 18]])"
      ]
     },
     "execution_count": 18,
     "metadata": {},
     "output_type": "execute_result"
    }
   ],
   "source": [
    "x = np.array([[1, 2, 3], [26, 27, 18]])\n",
    "x"
   ]
  },
  {
   "cell_type": "code",
   "execution_count": 19,
   "metadata": {},
   "outputs": [
    {
     "data": {
      "text/plain": [
       "array([1, 2, 3])"
      ]
     },
     "execution_count": 19,
     "metadata": {},
     "output_type": "execute_result"
    }
   ],
   "source": [
    "# Select the first row.\n",
    "x[0, :]"
   ]
  },
  {
   "cell_type": "code",
   "execution_count": 20,
   "metadata": {},
   "outputs": [
    {
     "data": {
      "text/plain": [
       "array([ 1, 26])"
      ]
     },
     "execution_count": 20,
     "metadata": {},
     "output_type": "execute_result"
    }
   ],
   "source": [
    "# Select the first column in row one.\n",
    "x[:, 0]"
   ]
  },
  {
   "cell_type": "markdown",
   "metadata": {},
   "source": [
    "## Xarray DataArray\n",
    "\n",
    "Xarray (and similarily pandas) allows use to give names to each row and coumns in arrays (and generally make things easier for us)"
   ]
  },
  {
   "cell_type": "code",
   "execution_count": 21,
   "metadata": {},
   "outputs": [
    {
     "data": {
      "text/plain": [
       "(2, 5)"
      ]
     },
     "execution_count": 21,
     "metadata": {},
     "output_type": "execute_result"
    }
   ],
   "source": [
    "time = [2010, 2011, 2012, 2013, 2014]\n",
    "temp = np.array([[20, 21, 22, 23, 24], [10, 11, 12, 13, 14]])\n",
    "depth = [0, 10]\n",
    "np.shape(temp)"
   ]
  },
  {
   "cell_type": "code",
   "execution_count": 33,
   "metadata": {},
   "outputs": [
    {
     "data": {
      "text/plain": [
       "<xarray.DataArray (depth: 2, time: 5)>\n",
       "array([[20, 21, 22, 23, 24],\n",
       "       [10, 11, 12, 13, 14]])\n",
       "Coordinates:\n",
       "  * depth    (depth) int32 0 10\n",
       "  * time     (time) int32 2010 2011 2012 2013 2014"
      ]
     },
     "execution_count": 33,
     "metadata": {},
     "output_type": "execute_result"
    }
   ],
   "source": [
    "ds = xr.DataArray(temp, dims=('depth', 'time'), coords={'depth': depth, 'time': time})\n",
    "ds"
   ]
  },
  {
   "cell_type": "code",
   "execution_count": 28,
   "metadata": {},
   "outputs": [
    {
     "data": {
      "text/plain": [
       "<xarray.DataArray 'time' (time: 5)>\n",
       "array([2010, 2011, 2012, 2013, 2014])\n",
       "Coordinates:\n",
       "  * time     (time) int32 2010 2011 2012 2013 2014"
      ]
     },
     "execution_count": 28,
     "metadata": {},
     "output_type": "execute_result"
    }
   ],
   "source": [
    "ds.time"
   ]
  },
  {
   "cell_type": "code",
   "execution_count": 29,
   "metadata": {},
   "outputs": [
    {
     "data": {
      "text/plain": [
       "<xarray.DataArray 'depth' (depth: 2)>\n",
       "array([ 0, 10])\n",
       "Coordinates:\n",
       "  * depth    (depth) int32 0 10"
      ]
     },
     "execution_count": 29,
     "metadata": {},
     "output_type": "execute_result"
    }
   ],
   "source": [
    "ds.depth"
   ]
  },
  {
   "cell_type": "code",
   "execution_count": 30,
   "metadata": {},
   "outputs": [
    {
     "data": {
      "text/plain": [
       "<xarray.DataArray ()>\n",
       "array(20)\n",
       "Coordinates:\n",
       "    depth    int32 0\n",
       "    time     int32 2010"
      ]
     },
     "execution_count": 30,
     "metadata": {},
     "output_type": "execute_result"
    }
   ],
   "source": [
    "ds.sel(depth=0, time=2010)"
   ]
  },
  {
   "cell_type": "code",
   "execution_count": 35,
   "metadata": {},
   "outputs": [
    {
     "data": {
      "text/plain": [
       "<xarray.DataArray 'depth' ()>\n",
       "array(10)\n",
       "Coordinates:\n",
       "    depth    int32 10"
      ]
     },
     "execution_count": 35,
     "metadata": {},
     "output_type": "execute_result"
    }
   ],
   "source": [
    "ds.depth.isel(depth=1)"
   ]
  },
  {
   "cell_type": "markdown",
   "metadata": {},
   "source": [
    "# Opening Excel (.csv) files using pandas\n",
    "\n",
    "To open .csv files, we will use pandas. You need to specify the path to the file (use forward slashes only). For this example, we'll open Southern Oscillation Index (SOI) values that I downloaded from the Bureau of Meteorology website."
   ]
  },
  {
   "cell_type": "code",
   "execution_count": 53,
   "metadata": {},
   "outputs": [],
   "source": [
    "path = 'C:/Users/astel/Documents/GitHub/scix_mhws/data/'"
   ]
  },
  {
   "cell_type": "code",
   "execution_count": 55,
   "metadata": {},
   "outputs": [
    {
     "data": {
      "text/html": [
       "<div>\n",
       "<style scoped>\n",
       "    .dataframe tbody tr th:only-of-type {\n",
       "        vertical-align: middle;\n",
       "    }\n",
       "\n",
       "    .dataframe tbody tr th {\n",
       "        vertical-align: top;\n",
       "    }\n",
       "\n",
       "    .dataframe thead th {\n",
       "        text-align: right;\n",
       "    }\n",
       "</style>\n",
       "<table border=\"1\" class=\"dataframe\">\n",
       "  <thead>\n",
       "    <tr style=\"text-align: right;\">\n",
       "      <th></th>\n",
       "      <th>time</th>\n",
       "      <th>soi</th>\n",
       "    </tr>\n",
       "  </thead>\n",
       "  <tbody>\n",
       "    <tr>\n",
       "      <th>0</th>\n",
       "      <td>1982-01-01</td>\n",
       "      <td>9.4</td>\n",
       "    </tr>\n",
       "    <tr>\n",
       "      <th>1</th>\n",
       "      <td>1982-02-01</td>\n",
       "      <td>0.6</td>\n",
       "    </tr>\n",
       "    <tr>\n",
       "      <th>2</th>\n",
       "      <td>1982-03-01</td>\n",
       "      <td>2.4</td>\n",
       "    </tr>\n",
       "    <tr>\n",
       "      <th>3</th>\n",
       "      <td>1982-04-01</td>\n",
       "      <td>-3.8</td>\n",
       "    </tr>\n",
       "    <tr>\n",
       "      <th>4</th>\n",
       "      <td>1982-05-01</td>\n",
       "      <td>-8.2</td>\n",
       "    </tr>\n",
       "    <tr>\n",
       "      <th>...</th>\n",
       "      <td>...</td>\n",
       "      <td>...</td>\n",
       "    </tr>\n",
       "    <tr>\n",
       "      <th>449</th>\n",
       "      <td>2019-06-01</td>\n",
       "      <td>-10.4</td>\n",
       "    </tr>\n",
       "    <tr>\n",
       "      <th>450</th>\n",
       "      <td>2019-07-01</td>\n",
       "      <td>-5.6</td>\n",
       "    </tr>\n",
       "    <tr>\n",
       "      <th>451</th>\n",
       "      <td>2019-08-01</td>\n",
       "      <td>-4.4</td>\n",
       "    </tr>\n",
       "    <tr>\n",
       "      <th>452</th>\n",
       "      <td>2019-09-01</td>\n",
       "      <td>-12.4</td>\n",
       "    </tr>\n",
       "    <tr>\n",
       "      <th>453</th>\n",
       "      <td>2019-10-01</td>\n",
       "      <td>-5.6</td>\n",
       "    </tr>\n",
       "  </tbody>\n",
       "</table>\n",
       "<p>454 rows × 2 columns</p>\n",
       "</div>"
      ],
      "text/plain": [
       "          time   soi\n",
       "0   1982-01-01   9.4\n",
       "1   1982-02-01   0.6\n",
       "2   1982-03-01   2.4\n",
       "3   1982-04-01  -3.8\n",
       "4   1982-05-01  -8.2\n",
       "..         ...   ...\n",
       "449 2019-06-01 -10.4\n",
       "450 2019-07-01  -5.6\n",
       "451 2019-08-01  -4.4\n",
       "452 2019-09-01 -12.4\n",
       "453 2019-10-01  -5.6\n",
       "\n",
       "[454 rows x 2 columns]"
      ]
     },
     "execution_count": 55,
     "metadata": {},
     "output_type": "execute_result"
    }
   ],
   "source": [
    "# Since we have dates, you should tell the reader so that it knows how to convert them properly.\n",
    "soi = pd.read_csv(path + 'BoM_SOI.csv', parse_dates=[0])\n",
    "soi"
   ]
  },
  {
   "cell_type": "code",
   "execution_count": 56,
   "metadata": {},
   "outputs": [
    {
     "data": {
      "text/plain": [
       "0   1982-01-01\n",
       "1   1982-02-01\n",
       "2   1982-03-01\n",
       "3   1982-04-01\n",
       "4   1982-05-01\n",
       "5   1982-06-01\n",
       "6   1982-07-01\n",
       "7   1982-08-01\n",
       "8   1982-09-01\n",
       "9   1982-10-01\n",
       "Name: time, dtype: datetime64[ns]"
      ]
     },
     "execution_count": 56,
     "metadata": {},
     "output_type": "execute_result"
    }
   ],
   "source": [
    "# We can access elements like we did for the xarray example. In fact, xarray is based on pandas.\n",
    "# Show the first 10 elements of time.\n",
    "soi.time[0:10]"
   ]
  },
  {
   "cell_type": "code",
   "execution_count": 58,
   "metadata": {},
   "outputs": [
    {
     "data": {
      "text/plain": [
       "<xarray.Dataset>\n",
       "Dimensions:  (index: 454)\n",
       "Coordinates:\n",
       "  * index    (index) int64 0 1 2 3 4 5 6 7 8 ... 446 447 448 449 450 451 452 453\n",
       "Data variables:\n",
       "    time     (index) datetime64[ns] 1982-01-01 1982-02-01 ... 2019-10-01\n",
       "    soi      (index) float64 9.4 0.6 2.4 -3.8 -8.2 ... -5.6 -4.4 -12.4 -5.6"
      ]
     },
     "execution_count": 58,
     "metadata": {},
     "output_type": "execute_result"
    }
   ],
   "source": [
    "soi.to_xarray()"
   ]
  },
  {
   "cell_type": "markdown",
   "metadata": {},
   "source": [
    "# Opening netcdf files (.nc) using xarray\n",
    "\n",
    "For this example, we will open a sea surface temperature (SST) anomaly (i.e. SST minus the climatology) averaged over the middle of the Pacific Ocean."
   ]
  },
  {
   "cell_type": "code",
   "execution_count": 61,
   "metadata": {},
   "outputs": [
    {
     "data": {
      "text/plain": [
       "<xarray.Dataset>\n",
       "Dimensions:  (time: 456)\n",
       "Coordinates:\n",
       "  * time     (time) datetime64[ns] 1981-09-01 1981-10-01 ... 2019-08-01\n",
       "Data variables:\n",
       "    nino34   (time) float32 ...\n",
       "Attributes:\n",
       "    CDI:                  Climate Data Interface version 1.7.1 (http://mpimet...\n",
       "    title:                Daily-OI-V2, final, Data (Ship, Buoy, AVHRR, GSFC-ice)\n",
       "    History:              Version 2.0\n",
       "    creation_date:        2011-05-04\n",
       "    Contact:              Dick Reynolds, email: Richard.W.Reynolds@noaa.gov &...\n",
       "    CDO:                  Climate Data Operators version 1.7.1 (http://mpimet...\n",
       "    summary:              Original files downloaded from ftp://eclipse.ncdc.n...\n",
       "    Conventions:          CF-1.6\n",
       "    date_created:         2017-01-05\n",
       "    time_coverage_start:  1981-09-01\n",
       "    time_coverage_end:    1981-12-31\n",
       "    geospatial_lat_min:   -89.875\n",
       "    geospatial_lat_max:   89.875\n",
       "    geospatial_lon_min:   0.125\n",
       "    geospatial_lon_max:   359.875"
      ]
     },
     "execution_count": 61,
     "metadata": {},
     "output_type": "execute_result"
    }
   ],
   "source": [
    "sst = xr.open_dataset('data/sst_anom_nino34.nc')\n",
    "sst"
   ]
  },
  {
   "cell_type": "markdown",
   "metadata": {},
   "source": [
    "There is one coordinate (time) and one variable (nino34) and a lot of metadata (like who made it, etc)"
   ]
  },
  {
   "cell_type": "code",
   "execution_count": null,
   "metadata": {},
   "outputs": [],
   "source": [
    "sst.nino34"
   ]
  },
  {
   "cell_type": "code",
   "execution_count": null,
   "metadata": {},
   "outputs": [],
   "source": [
    "sst.nino34.isel(time=0)"
   ]
  },
  {
   "cell_type": "code",
   "execution_count": null,
   "metadata": {},
   "outputs": [],
   "source": [
    "# Only showing the first 50 times (otherwise it is really slow).\n",
    "# Note that isel and sel are different. isel takes the index i.e. 0 or 1, while sel takes the actual value (like the date).\n",
    "sst.nino34.isel(time=slice(0, 50)).plot()"
   ]
  },
  {
   "cell_type": "markdown",
   "metadata": {},
   "source": [
    "# Python Statistics"
   ]
  },
  {
   "cell_type": "code",
   "execution_count": null,
   "metadata": {},
   "outputs": [],
   "source": [
    "# Calculate the mean.\n",
    "sst.nino34.mean()"
   ]
  },
  {
   "cell_type": "code",
   "execution_count": null,
   "metadata": {},
   "outputs": [],
   "source": [
    "# This does the same thing as before.\n",
    "np.mean(sst.nino34)"
   ]
  },
  {
   "cell_type": "code",
   "execution_count": null,
   "metadata": {},
   "outputs": [],
   "source": [
    "sst.nino34.median()"
   ]
  },
  {
   "cell_type": "code",
   "execution_count": null,
   "metadata": {},
   "outputs": [],
   "source": [
    "# Calculate the 50th percentile (which should be the same as the median).\n",
    "np.percentile(sst.nino34, 50)"
   ]
  },
  {
   "cell_type": "code",
   "execution_count": null,
   "metadata": {},
   "outputs": [],
   "source": [
    "# The 10th and 90th percentile.\n",
    "print(np.percentile(sst.nino34, 10))\n",
    "print(np.percentile(sst.nino34, 90))"
   ]
  },
  {
   "cell_type": "markdown",
   "metadata": {},
   "source": [
    "# Correlation and linear regression\n",
    "\n",
    "Correlation quantifies the direction and strength of the relationship between two numeric variables, x and y, and always lies between -1.0 and 1.0. \n",
    "\n",
    "A correlation of -1.0 shows a perfect negative correlation, while a correlation of 1.0 shows a perfect positive correlation. A correlation of 0.0 shows no relationship between the movement of the two variables.  A calculated number greater than 1.0 or less than -1.0 means that there was an error in the correlation measurement. \n",
    "\n",
    "\n",
    "Simple linear regression relates X to Y through an equation of the form y = mx + b"
   ]
  },
  {
   "cell_type": "code",
   "execution_count": null,
   "metadata": {},
   "outputs": [],
   "source": [
    "x = np.arange(20) # e.g. 0, 1, 2, 3, ... 19\n",
    "\n",
    "# y will be similar to x, except we'll add some randomness (i.e. a random number between -4 and 4).\n",
    "y = x + [random.uniform(-4, 4) for _ in range(20)]\n",
    "y"
   ]
  },
  {
   "cell_type": "code",
   "execution_count": null,
   "metadata": {},
   "outputs": [],
   "source": [
    "fig = plt.figure(figsize=(5, 4)) # Define the figure size: 5 inches width and 4 inches length.\n",
    "plt.scatter(x, y)\n",
    "# Add some labels to the axes.\n",
    "plt.xlabel('X axis')\n",
    "plt.ylabel('Y axis')\n",
    "plt.title('Linear correlation example')"
   ]
  },
  {
   "cell_type": "markdown",
   "metadata": {},
   "source": [
    "Lets find the correlation coefficient (r) and the associated p-value (p). For this we will use the Pearson R test.\n",
    "\n",
    "More information: https://docs.scipy.org/doc/scipy-0.14.0/reference/generated/scipy.stats.pearsonr.html"
   ]
  },
  {
   "cell_type": "code",
   "execution_count": null,
   "metadata": {},
   "outputs": [],
   "source": [
    "stats.pearsonr(x, y) "
   ]
  },
  {
   "cell_type": "markdown",
   "metadata": {},
   "source": [
    "This returns the correlation coefficient (r) and the p-value. As expected, the correlation coefficient is close to one and the p-value is very small (e-14 means it is the 14th decimal place). Basically, this means our data is very close to a straight line and it is highly improbable that it is due to random chance. After all, we did just add a small bit of randomness to a straight line.\n",
    "\n",
    "If the number was close to -1, it just means it is close to a straight line with a downwards slope. \n",
    "\n",
    "If, for example, we chose a confidence interval of 95% or p < 0.05 (as most studies do) then our result IS statistically significant. (p=3.9e-11 actually means 0.000000000039)\n",
    "\n",
    "Let's add a line of best fit."
   ]
  },
  {
   "cell_type": "code",
   "execution_count": null,
   "metadata": {},
   "outputs": [],
   "source": [
    "fig = plt.figure(figsize=(5, 4)) # Define the figure size: 5 inches width and 4 inches length.\n",
    "plt.scatter(x, y)\n",
    "# Add some labels to the axes.\n",
    "plt.xlabel('X axis')\n",
    "plt.ylabel('Y axis')\n",
    "# Add the line of best fit (and color it red).\n",
    "plt.plot(np.unique(x), np.poly1d(np.polyfit(x, y, 1))(np.unique(x)), color='red')\n",
    "plt.title('Linear correlation example')"
   ]
  },
  {
   "cell_type": "markdown",
   "metadata": {},
   "source": [
    "Lets see what happens when have very random data."
   ]
  },
  {
   "cell_type": "code",
   "execution_count": null,
   "metadata": {},
   "outputs": [],
   "source": [
    "# Create an array of twenty random numbers between 0 and 20.\n",
    "Y = np.array([random.uniform(0, 20) for _ in range(20)])\n",
    "plt.scatter(x, Y)"
   ]
  },
  {
   "cell_type": "markdown",
   "metadata": {},
   "source": [
    "Now, this example doesn't at all look like a line. So we expect the correlation coefficent to be close to zero and a large p-value."
   ]
  },
  {
   "cell_type": "code",
   "execution_count": null,
   "metadata": {},
   "outputs": [],
   "source": [
    "stats.pearsonr(x, Y) "
   ]
  },
  {
   "cell_type": "markdown",
   "metadata": {},
   "source": [
    "As expected, R is close to zero and the p-value is quite high.\n",
    "\n",
    "\n",
    "# t-test\n",
    "\n",
    "A t-test is a type of statistic used to determine if there is a significant difference between the means of two groups, which may be related in certain features."
   ]
  },
  {
   "cell_type": "code",
   "execution_count": null,
   "metadata": {},
   "outputs": [],
   "source": [
    "# Lets make up some temperature data, that randomly fluctuates between 15 and 25 degrees C (for temp1)\n",
    "time = np.arange(50)\n",
    "temp1 = np.array([random.uniform(15, 25) for _ in range(50)]) # Random numbers between 15 and 25\n",
    "temp2 = np.array([random.uniform(20, 30) for _ in range(50)]) # Random numbers between 20 and 30"
   ]
  },
  {
   "cell_type": "markdown",
   "metadata": {},
   "source": [
    "We expect the mean of temp1 to be around 20C and the mean of temp2 to be around 25C. "
   ]
  },
  {
   "cell_type": "code",
   "execution_count": null,
   "metadata": {},
   "outputs": [],
   "source": [
    "print('The mean of temp1 is:', np.mean(temp1))\n",
    "print('The mean of temp2 is:', np.mean(temp2))"
   ]
  },
  {
   "cell_type": "markdown",
   "metadata": {},
   "source": [
    "Lets plot temp1 to see how it looks."
   ]
  },
  {
   "cell_type": "code",
   "execution_count": null,
   "metadata": {},
   "outputs": [],
   "source": [
    "plt.title('Random temperatures')\n",
    "plt.plot(time, temp1)\n",
    "plt.ylabel('Temperature [deg C]')\n",
    "plt.xlabel('Time [seconds]')"
   ]
  },
  {
   "cell_type": "code",
   "execution_count": null,
   "metadata": {},
   "outputs": [],
   "source": [
    "plt.title('Random temperatures')\n",
    "plt.plot(time, temp1)\n",
    "\n",
    "# Adding the mean, 10th and 90th percentile.\n",
    "# https://matplotlib.org/3.1.1/api/_as_gen/matplotlib.pyplot.axhline.html\n",
    "plt.axhline(np.mean(temp1), color='r')\n",
    "# plt.axhline(np.percentile(temp1, 10), color='k')\n",
    "# plt.axhline(np.percentile(temp1, 90), color='k')\n",
    "# plt.axhline(np.percentile(temp1, 50), color='blue')\n",
    "\n",
    "plt.ylabel('Temperature [deg C]')\n",
    "plt.xlabel('Time [seconds]')"
   ]
  },
  {
   "cell_type": "code",
   "execution_count": null,
   "metadata": {},
   "outputs": [],
   "source": [
    "plt.title('Random temperatures')\n",
    "plt.plot(time, temp1, color='blue', label='temp1')\n",
    "plt.plot(time, temp2, color='red', label='temp2')\n",
    "\n",
    "plt.axhline(np.mean(temp1), color='blue')\n",
    "plt.axhline(np.mean(temp2), color='red')\n",
    "\n",
    "\n",
    "plt.ylabel('Temperature [deg C]')\n",
    "plt.xlabel('Time [seconds]')\n",
    "\n",
    "# Add the labels to a legend\n",
    "plt.legend()"
   ]
  },
  {
   "cell_type": "markdown",
   "metadata": {},
   "source": [
    "Now we know the means between the two temperature data sets are different, but exactly how different are they and could the difference just be due to random chance?"
   ]
  },
  {
   "cell_type": "markdown",
   "metadata": {},
   "source": [
    "For this we will use the independent t-test\n",
    "\n",
    "for more information: https://docs.scipy.org/doc/scipy/reference/generated/scipy.stats.ttest_ind.html\n",
    "\n",
    "First, we will see what happens when we try to see the difference between the same thing:"
   ]
  },
  {
   "cell_type": "code",
   "execution_count": null,
   "metadata": {},
   "outputs": [],
   "source": [
    "stats.ttest_ind(temp1, temp1)"
   ]
  },
  {
   "cell_type": "markdown",
   "metadata": {},
   "source": [
    "We are only really interested in the p-value, which is one. That means there is no difference."
   ]
  },
  {
   "cell_type": "code",
   "execution_count": null,
   "metadata": {},
   "outputs": [],
   "source": [
    "stats.ttest_ind(temp1, temp2)"
   ]
  },
  {
   "cell_type": "markdown",
   "metadata": {},
   "source": [
    "The p value is around 0.0000000000095, which means there is a very low chance the numbers are different due to random chance.\n",
    "\n",
    "If we were using paired samples, such as height measurements of people at two different times, we would use the dependent t-test.\n",
    "\n",
    "Just change stats.ttest_ind(x, y) to stats.ttest_red(x, y).\n",
    "\n",
    "https://docs.scipy.org/doc/scipy/reference/generated/scipy.stats.ttest_rel.html"
   ]
  },
  {
   "cell_type": "markdown",
   "metadata": {},
   "source": [
    "# Errors and debugging\n",
    "\n",
    "Errors, it's not a matter of if - it's a matter of when. You can generally ignore most warning (usually coloured pink), but if there is an error - your code won't execute and you will get an error message.\n",
    "\n",
    "But, don't panic - the error you will make are usually easy to fix and the error message will tell you where the error is.\n",
    "\n",
    "In coding, brackets are important and they ALWAYS have to be close. "
   ]
  },
  {
   "cell_type": "code",
   "execution_count": null,
   "metadata": {},
   "outputs": [],
   "source": [
    "print('testing'"
   ]
  },
  {
   "cell_type": "markdown",
   "metadata": {},
   "source": [
    "A syntax error means an error to the spelling and grammar. The error message even shows us where exactly we missed something, in this case it was the bracket."
   ]
  },
  {
   "cell_type": "code",
   "execution_count": null,
   "metadata": {},
   "outputs": [],
   "source": [
    "print('testing)"
   ]
  },
  {
   "cell_type": "markdown",
   "metadata": {},
   "source": [
    "In this case, we forgot the last quotation mark."
   ]
  },
  {
   "cell_type": "code",
   "execution_count": null,
   "metadata": {},
   "outputs": [],
   "source": [
    "var"
   ]
  },
  {
   "cell_type": "markdown",
   "metadata": {},
   "source": [
    "Name error - we haven't called anything 'var' before. This error may commonly occur when we recently open a notebook and we can see all the output, but the session ended when we last closed the notebook - so nothing has been saved into memory yet. Check to see if you have run all the cells yet, or check if you made a typo in the variable name.\n",
    "\n",
    "Indents mean a very specific thing in python. Unless you are using a for or while loop (which we haven't covered yet) - make sure all lines of code do not have and spaces before them.\n",
    "\n",
    "In the next example, i just pressed tab before the print statement."
   ]
  },
  {
   "cell_type": "code",
   "execution_count": null,
   "metadata": {},
   "outputs": [],
   "source": [
    "c = 0\n",
    "    print(c)"
   ]
  },
  {
   "cell_type": "code",
   "execution_count": null,
   "metadata": {},
   "outputs": [],
   "source": []
  }
 ],
 "metadata": {
  "kernelspec": {
   "display_name": "Python 3",
   "language": "python",
   "name": "python3"
  },
  "language_info": {
   "codemirror_mode": {
    "name": "ipython",
    "version": 3
   },
   "file_extension": ".py",
   "mimetype": "text/x-python",
   "name": "python",
   "nbconvert_exporter": "python",
   "pygments_lexer": "ipython3",
   "version": "3.7.0"
  }
 },
 "nbformat": 4,
 "nbformat_minor": 2
}
