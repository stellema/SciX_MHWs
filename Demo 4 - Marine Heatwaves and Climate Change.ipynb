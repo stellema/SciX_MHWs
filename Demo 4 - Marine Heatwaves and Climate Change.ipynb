{
 "cells": [
  {
   "cell_type": "markdown",
   "metadata": {},
   "source": [
    "# Lesson 6: Marine heatwaves and climate change\n"
   ]
  },
  {
   "cell_type": "code",
   "execution_count": 1,
   "metadata": {},
   "outputs": [],
   "source": [
    "# Load required modules.\n",
    "import numpy as np\n",
    "import xarray as xr\n",
    "import pandas as pd\n",
    "import scipy.stats as stats\n",
    "from datetime import date, timedelta\n",
    "from matplotlib import pyplot as plt\n",
    "\n",
    "%matplotlib inline"
   ]
  },
  {
   "cell_type": "markdown",
   "metadata": {},
   "source": [
    "### Enter the latitude and longitude of the data that you downloaded from the MHW tracker website:"
   ]
  },
  {
   "cell_type": "code",
   "execution_count": 2,
   "metadata": {},
   "outputs": [],
   "source": [
    "lat = 34.125\n",
    "lon = -119.875"
   ]
  },
  {
   "cell_type": "markdown",
   "metadata": {},
   "source": [
    "### Enter the path where you saved the MHW tracker climatology and statistics .csv files:"
   ]
  },
  {
   "cell_type": "code",
   "execution_count": 3,
   "metadata": {},
   "outputs": [],
   "source": [
    "data_path = 'C:/Users/astel/Documents/GitHub/scix_mhws/data/'"
   ]
  },
  {
   "cell_type": "markdown",
   "metadata": {},
   "source": [
    "Load the MHW tracker climatology and statistics .csv files"
   ]
  },
  {
   "cell_type": "code",
   "execution_count": 4,
   "metadata": {},
   "outputs": [],
   "source": [
    "mhws = pd.read_csv(data_path + 'event_lon_{}_lat_{}.csv'.format(lon, lat), parse_dates=[3, 4, 5, 6])"
   ]
  },
  {
   "cell_type": "markdown",
   "metadata": {},
   "source": [
    "### Convert the pandas dataframe to an xarray dataset (makes things easier for us in this form)."
   ]
  },
  {
   "cell_type": "code",
   "execution_count": 5,
   "metadata": {},
   "outputs": [
    {
     "name": "stdout",
     "output_type": "stream",
     "text": [
      "<xarray.Dataset>\n",
      "Dimensions:               (index: 81)\n",
      "Coordinates:\n",
      "  * index                 (index) datetime64[ns] 1982-09-11 ... 2019-09-12\n",
      "Data variables:\n",
      "    lon                   (index) float64 -119.9 -119.9 -119.9 ... -119.9 -119.9\n",
      "    lat                   (index) float64 34.12 34.12 34.12 ... 34.12 34.12\n",
      "    event_no              (index) int64 1 2 3 4 5 6 7 8 ... 75 76 77 78 79 80 81\n",
      "    date_start            (index) datetime64[ns] 1982-09-11 ... 2019-09-12\n",
      "    date_peak             (index) datetime64[ns] 1982-09-11 ... 2019-09-13\n",
      "    date_end              (index) datetime64[ns] 1982-09-15 ... 2019-09-16\n",
      "    duration              (index) int32 5 5 6 51 6 6 18 65 ... 24 12 31 7 7 5 5\n",
      "    intensity_mean        (index) float64 2.106 1.502 1.608 ... 1.443 2.27 2.668\n",
      "    intensity_max         (index) float64 2.25 1.71 1.71 2.59 ... 1.65 2.42 3.42\n",
      "    intensity_cumulative  (index) float64 10.53 7.51 9.65 ... 10.1 11.35 13.34\n"
     ]
    }
   ],
   "source": [
    "# Creating a new pandas dataframe where the first column is now 'date_start'.\n",
    "mhw = mhws.reset_index(level=0, drop=True)\n",
    "mhw = mhws.set_index('date_start')\n",
    "mhw.head()\n",
    "\n",
    "# Converting to xarray.\n",
    "mhw = mhws.to_xarray()\n",
    "mhw['duration'] = mhw.duration.astype(dtype=int) # For some reason the duration wasn't loaded as numbers, so fixing that.\n",
    "\n",
    "# Changing the coordinate to date_start (keeping the name 'index')\n",
    "# This way, all MHWs are sorted into the year that they started (similar to Oliver at al. 2018)\n",
    "mhw['index'] = mhw.date_start\n",
    "print(mhw)"
   ]
  },
  {
   "cell_type": "markdown",
   "metadata": {},
   "source": [
    "# Annual mean MHW duration"
   ]
  },
  {
   "cell_type": "code",
   "execution_count": 11,
   "metadata": {},
   "outputs": [
    {
     "data": {
      "text/plain": [
       "Text(0,0.5,'Annual mean duration [days]')"
      ]
     },
     "execution_count": 11,
     "metadata": {},
     "output_type": "execute_result"
    },
    {
     "data": {
      "image/png": "[encoded data removed]",
      "text/plain": [
       "<Figure size 432x360 with 1 Axes>"
      ]
     },
     "metadata": {
      "needs_background": "light"
     },
     "output_type": "display_data"
    }
   ],
   "source": [
    "plt.figure(figsize=(6, 5))\n",
    "plt.title('Annual mean MHW duration at {}°lon, {}°lat'.format(lon, lat))\n",
    "\n",
    "# Grouping MHWs by the year that they started and plotting the annual mean duration.\n",
    "mhw.duration.groupby('index.year').mean().plot(color='black')\n",
    "plt.xlabel('Time')\n",
    "plt.ylabel('Annual mean duration [days]')\n",
    "# plt.savefig('MHW_duration_lon_{}_lat_{}.png'.format(lon, lat))"
   ]
  },
  {
   "cell_type": "code",
   "execution_count": null,
   "metadata": {},
   "outputs": [],
   "source": [
    "stats.pearsonr(mhw.index.groupby('index.year').mean().year, mhw.duration.groupby('index.year').mean())"
   ]
  },
  {
   "cell_type": "markdown",
   "metadata": {},
   "source": [
    "We will split the timeseries into two seperate time slices that are 15 years long. For this, you need to manually find the dates where the first and last MHW occured in the 15 year time slice. You can change the time slice lenght (e.g. 10 years instead of 15 to dee if it makes any noteable difference to your result.\n",
    "\n",
    "To do this, look at mhw.date_start to find the dates."
   ]
  },
  {
   "cell_type": "code",
   "execution_count": null,
   "metadata": {},
   "outputs": [],
   "source": [
    "mhw.date_start"
   ]
  },
  {
   "cell_type": "code",
   "execution_count": null,
   "metadata": {},
   "outputs": [],
   "source": [
    "mhw1 = mhw.sel(index=slice('1982-09-11', '1997-10-17')).duration.groupby('index.year').mean()\n",
    "mhw2 = mhw.sel(index=slice('2004-09-06', '2019-09-12')).duration.groupby('index.year').mean()"
   ]
  },
  {
   "cell_type": "code",
   "execution_count": null,
   "metadata": {},
   "outputs": [],
   "source": [
    "print(stats.ttest_ind(mhw1, mhw2))"
   ]
  },
  {
   "cell_type": "markdown",
   "metadata": {},
   "source": [
    "# Mean intensity of MHWs (annual mean)"
   ]
  },
  {
   "cell_type": "code",
   "execution_count": null,
   "metadata": {},
   "outputs": [],
   "source": [
    "plt.figure(figsize=(6, 5))\n",
    "plt.title('Annual MHW mean intensity at {}°lon, {}°lat'.format(lon, lat))\n",
    "plt.plot(mhw.date_start.groupby('index.year').mean(), \n",
    "         mhw.intensity_mean.groupby('index.year').mean(), color='black')\n",
    "plt.xlabel('Time')\n",
    "plt.ylabel('Annual mean intensity [°C]')\n",
    "# plt.savefig('MHW_intensity_mean_lon_{}_lat_{}.png'.format(lon, lat))"
   ]
  },
  {
   "cell_type": "code",
   "execution_count": null,
   "metadata": {},
   "outputs": [],
   "source": [
    "stats.pearsonr(mhw.index.groupby('index.year').mean().year, mhw.intensity_mean.groupby('index.year').mean())"
   ]
  },
  {
   "cell_type": "code",
   "execution_count": null,
   "metadata": {},
   "outputs": [],
   "source": [
    "mhw1 = mhw.sel(index=slice('1982-09-11', '1997-10-17')).intensity_mean.groupby('index.year').mean()\n",
    "mhw2 = mhw.sel(index=slice('2004-09-06', '2019-09-12')).intensity_mean.groupby('index.year').mean()\n",
    "print(stats.ttest_ind(mhw1, mhw2))"
   ]
  },
  {
   "cell_type": "markdown",
   "metadata": {},
   "source": [
    "# Max intensity of MHWs (annual mean)"
   ]
  },
  {
   "cell_type": "code",
   "execution_count": null,
   "metadata": {},
   "outputs": [],
   "source": [
    "plt.figure(figsize=(6, 5))\n",
    "plt.title('Annual mean MHW max intensity at {}°lon, {}°lat'.format(lon, lat))\n",
    "plt.plot(mhw.date_start.groupby('index.year').mean(), \n",
    "         mhw.intensity_max.groupby('index.year').mean(), color='black')\n",
    "plt.xlabel('Time')\n",
    "plt.ylabel('Annual mean max intensity [°C]')\n",
    "# plt.savefig('MHW_intensity_max_lon_{}_lat_{}.png'.format(lon, lat))"
   ]
  },
  {
   "cell_type": "code",
   "execution_count": null,
   "metadata": {},
   "outputs": [],
   "source": [
    "mhw1 = mhw.sel(index=slice('1982-09-11', '1997-10-17')).intensity_max.groupby('index.year').mean()\n",
    "mhw2 = mhw.sel(index=slice('2004-09-06', '2019-09-12')).intensity_max.groupby('index.year').mean()\n",
    "print(stats.ttest_ind(mhw1, mhw2))"
   ]
  },
  {
   "cell_type": "code",
   "execution_count": null,
   "metadata": {},
   "outputs": [],
   "source": []
  }
 ],
 "metadata": {
  "kernelspec": {
   "display_name": "Python 3",
   "language": "python",
   "name": "python3"
  },
  "language_info": {
   "codemirror_mode": {
    "name": "ipython",
    "version": 3
   },
   "file_extension": ".py",
   "mimetype": "text/x-python",
   "name": "python",
   "nbconvert_exporter": "python",
   "pygments_lexer": "ipython3",
   "version": "3.7.0"
  }
 },
 "nbformat": 4,
 "nbformat_minor": 2
}
